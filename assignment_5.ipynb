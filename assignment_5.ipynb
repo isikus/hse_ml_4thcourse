{
  "nbformat": 4,
  "nbformat_minor": 0,
  "metadata": {
    "kernelspec": {
      "name": "python3",
      "display_name": "Python 3"
    },
    "language_info": {
      "codemirror_mode": {
        "name": "ipython",
        "version": 3
      },
      "file_extension": ".py",
      "mimetype": "text/x-python",
      "name": "python",
      "nbconvert_exporter": "python",
      "pygments_lexer": "ipython3",
      "version": "3.7.5"
    },
    "colab": {
      "name": "assignment_5.ipynb",
      "provenance": [],
      "collapsed_sections": []
    },
    "accelerator": "GPU",
    "widgets": {
      "application/vnd.jupyter.widget-state+json": {
        "38424dddd74d4aa4a90ad319df5f4c58": {
          "model_module": "@jupyter-widgets/controls",
          "model_name": "HBoxModel",
          "state": {
            "_view_name": "HBoxView",
            "_dom_classes": [],
            "_model_name": "HBoxModel",
            "_view_module": "@jupyter-widgets/controls",
            "_model_module_version": "1.5.0",
            "_view_count": null,
            "_view_module_version": "1.5.0",
            "box_style": "",
            "layout": "IPY_MODEL_8babb91ecb48494aa9303d7310c57370",
            "_model_module": "@jupyter-widgets/controls",
            "children": [
              "IPY_MODEL_7b4251b394da4c8a8b53a8964b96fd05",
              "IPY_MODEL_02491372e65645dbaa091d20662cebc7"
            ]
          }
        },
        "8babb91ecb48494aa9303d7310c57370": {
          "model_module": "@jupyter-widgets/base",
          "model_name": "LayoutModel",
          "state": {
            "_view_name": "LayoutView",
            "grid_template_rows": null,
            "right": null,
            "justify_content": null,
            "_view_module": "@jupyter-widgets/base",
            "overflow": null,
            "_model_module_version": "1.2.0",
            "_view_count": null,
            "flex_flow": null,
            "width": null,
            "min_width": null,
            "border": null,
            "align_items": null,
            "bottom": null,
            "_model_module": "@jupyter-widgets/base",
            "top": null,
            "grid_column": null,
            "overflow_y": null,
            "overflow_x": null,
            "grid_auto_flow": null,
            "grid_area": null,
            "grid_template_columns": null,
            "flex": null,
            "_model_name": "LayoutModel",
            "justify_items": null,
            "grid_row": null,
            "max_height": null,
            "align_content": null,
            "visibility": null,
            "align_self": null,
            "height": null,
            "min_height": null,
            "padding": null,
            "grid_auto_rows": null,
            "grid_gap": null,
            "max_width": null,
            "order": null,
            "_view_module_version": "1.2.0",
            "grid_template_areas": null,
            "object_position": null,
            "object_fit": null,
            "grid_auto_columns": null,
            "margin": null,
            "display": null,
            "left": null
          }
        },
        "7b4251b394da4c8a8b53a8964b96fd05": {
          "model_module": "@jupyter-widgets/controls",
          "model_name": "IntProgressModel",
          "state": {
            "_view_name": "ProgressView",
            "style": "IPY_MODEL_776f08a70bd848f7ad6453bee0eaf0dd",
            "_dom_classes": [],
            "description": "epoch 1",
            "_model_name": "IntProgressModel",
            "bar_style": "success",
            "max": 704,
            "_view_module": "@jupyter-widgets/controls",
            "_model_module_version": "1.5.0",
            "value": 704,
            "_view_count": null,
            "_view_module_version": "1.5.0",
            "orientation": "horizontal",
            "min": 0,
            "description_tooltip": null,
            "_model_module": "@jupyter-widgets/controls",
            "layout": "IPY_MODEL_d8be01fff9314198be822a65b8326423"
          }
        },
        "02491372e65645dbaa091d20662cebc7": {
          "model_module": "@jupyter-widgets/controls",
          "model_name": "HTMLModel",
          "state": {
            "_view_name": "HTMLView",
            "style": "IPY_MODEL_609e62bb6cb440f5b554324e151f13ff",
            "_dom_classes": [],
            "description": "",
            "_model_name": "HTMLModel",
            "placeholder": "​",
            "_view_module": "@jupyter-widgets/controls",
            "_model_module_version": "1.5.0",
            "value": "100% 704/704 [13:20&lt;00:00,  1.10s/it, loss=0.50665]",
            "_view_count": null,
            "_view_module_version": "1.5.0",
            "description_tooltip": null,
            "_model_module": "@jupyter-widgets/controls",
            "layout": "IPY_MODEL_e0ecbe053e7b47089331d6daadc95352"
          }
        },
        "776f08a70bd848f7ad6453bee0eaf0dd": {
          "model_module": "@jupyter-widgets/controls",
          "model_name": "ProgressStyleModel",
          "state": {
            "_view_name": "StyleView",
            "_model_name": "ProgressStyleModel",
            "description_width": "initial",
            "_view_module": "@jupyter-widgets/base",
            "_model_module_version": "1.5.0",
            "_view_count": null,
            "_view_module_version": "1.2.0",
            "bar_color": null,
            "_model_module": "@jupyter-widgets/controls"
          }
        },
        "d8be01fff9314198be822a65b8326423": {
          "model_module": "@jupyter-widgets/base",
          "model_name": "LayoutModel",
          "state": {
            "_view_name": "LayoutView",
            "grid_template_rows": null,
            "right": null,
            "justify_content": null,
            "_view_module": "@jupyter-widgets/base",
            "overflow": null,
            "_model_module_version": "1.2.0",
            "_view_count": null,
            "flex_flow": null,
            "width": null,
            "min_width": null,
            "border": null,
            "align_items": null,
            "bottom": null,
            "_model_module": "@jupyter-widgets/base",
            "top": null,
            "grid_column": null,
            "overflow_y": null,
            "overflow_x": null,
            "grid_auto_flow": null,
            "grid_area": null,
            "grid_template_columns": null,
            "flex": null,
            "_model_name": "LayoutModel",
            "justify_items": null,
            "grid_row": null,
            "max_height": null,
            "align_content": null,
            "visibility": null,
            "align_self": null,
            "height": null,
            "min_height": null,
            "padding": null,
            "grid_auto_rows": null,
            "grid_gap": null,
            "max_width": null,
            "order": null,
            "_view_module_version": "1.2.0",
            "grid_template_areas": null,
            "object_position": null,
            "object_fit": null,
            "grid_auto_columns": null,
            "margin": null,
            "display": null,
            "left": null
          }
        },
        "609e62bb6cb440f5b554324e151f13ff": {
          "model_module": "@jupyter-widgets/controls",
          "model_name": "DescriptionStyleModel",
          "state": {
            "_view_name": "StyleView",
            "_model_name": "DescriptionStyleModel",
            "description_width": "",
            "_view_module": "@jupyter-widgets/base",
            "_model_module_version": "1.5.0",
            "_view_count": null,
            "_view_module_version": "1.2.0",
            "_model_module": "@jupyter-widgets/controls"
          }
        },
        "e0ecbe053e7b47089331d6daadc95352": {
          "model_module": "@jupyter-widgets/base",
          "model_name": "LayoutModel",
          "state": {
            "_view_name": "LayoutView",
            "grid_template_rows": null,
            "right": null,
            "justify_content": null,
            "_view_module": "@jupyter-widgets/base",
            "overflow": null,
            "_model_module_version": "1.2.0",
            "_view_count": null,
            "flex_flow": null,
            "width": null,
            "min_width": null,
            "border": null,
            "align_items": null,
            "bottom": null,
            "_model_module": "@jupyter-widgets/base",
            "top": null,
            "grid_column": null,
            "overflow_y": null,
            "overflow_x": null,
            "grid_auto_flow": null,
            "grid_area": null,
            "grid_template_columns": null,
            "flex": null,
            "_model_name": "LayoutModel",
            "justify_items": null,
            "grid_row": null,
            "max_height": null,
            "align_content": null,
            "visibility": null,
            "align_self": null,
            "height": null,
            "min_height": null,
            "padding": null,
            "grid_auto_rows": null,
            "grid_gap": null,
            "max_width": null,
            "order": null,
            "_view_module_version": "1.2.0",
            "grid_template_areas": null,
            "object_position": null,
            "object_fit": null,
            "grid_auto_columns": null,
            "margin": null,
            "display": null,
            "left": null
          }
        },
        "9959d2a241934bae88ace8d1c979d943": {
          "model_module": "@jupyter-widgets/controls",
          "model_name": "HBoxModel",
          "state": {
            "_view_name": "HBoxView",
            "_dom_classes": [],
            "_model_name": "HBoxModel",
            "_view_module": "@jupyter-widgets/controls",
            "_model_module_version": "1.5.0",
            "_view_count": null,
            "_view_module_version": "1.5.0",
            "box_style": "",
            "layout": "IPY_MODEL_8093e7bf91e0466e8bf10049799b3f08",
            "_model_module": "@jupyter-widgets/controls",
            "children": [
              "IPY_MODEL_4beca628513e46679ee047612361667d",
              "IPY_MODEL_d25f5479332240a0923ca61e50a1261b"
            ]
          }
        },
        "8093e7bf91e0466e8bf10049799b3f08": {
          "model_module": "@jupyter-widgets/base",
          "model_name": "LayoutModel",
          "state": {
            "_view_name": "LayoutView",
            "grid_template_rows": null,
            "right": null,
            "justify_content": null,
            "_view_module": "@jupyter-widgets/base",
            "overflow": null,
            "_model_module_version": "1.2.0",
            "_view_count": null,
            "flex_flow": null,
            "width": null,
            "min_width": null,
            "border": null,
            "align_items": null,
            "bottom": null,
            "_model_module": "@jupyter-widgets/base",
            "top": null,
            "grid_column": null,
            "overflow_y": null,
            "overflow_x": null,
            "grid_auto_flow": null,
            "grid_area": null,
            "grid_template_columns": null,
            "flex": null,
            "_model_name": "LayoutModel",
            "justify_items": null,
            "grid_row": null,
            "max_height": null,
            "align_content": null,
            "visibility": null,
            "align_self": null,
            "height": null,
            "min_height": null,
            "padding": null,
            "grid_auto_rows": null,
            "grid_gap": null,
            "max_width": null,
            "order": null,
            "_view_module_version": "1.2.0",
            "grid_template_areas": null,
            "object_position": null,
            "object_fit": null,
            "grid_auto_columns": null,
            "margin": null,
            "display": null,
            "left": null
          }
        },
        "4beca628513e46679ee047612361667d": {
          "model_module": "@jupyter-widgets/controls",
          "model_name": "IntProgressModel",
          "state": {
            "_view_name": "ProgressView",
            "style": "IPY_MODEL_df472c1c01854309acba58baf00a13d4",
            "_dom_classes": [],
            "description": "epoch 2",
            "_model_name": "IntProgressModel",
            "bar_style": "success",
            "max": 704,
            "_view_module": "@jupyter-widgets/controls",
            "_model_module_version": "1.5.0",
            "value": 704,
            "_view_count": null,
            "_view_module_version": "1.5.0",
            "orientation": "horizontal",
            "min": 0,
            "description_tooltip": null,
            "_model_module": "@jupyter-widgets/controls",
            "layout": "IPY_MODEL_b421c7bd505b4e528a4bf77361042334"
          }
        },
        "d25f5479332240a0923ca61e50a1261b": {
          "model_module": "@jupyter-widgets/controls",
          "model_name": "HTMLModel",
          "state": {
            "_view_name": "HTMLView",
            "style": "IPY_MODEL_b7b0c93ddc68457cbc72d2a1f31203ed",
            "_dom_classes": [],
            "description": "",
            "_model_name": "HTMLModel",
            "placeholder": "​",
            "_view_module": "@jupyter-widgets/controls",
            "_model_module_version": "1.5.0",
            "value": "100% 704/704 [13:08&lt;00:00,  1.12it/s, loss=0.35940]",
            "_view_count": null,
            "_view_module_version": "1.5.0",
            "description_tooltip": null,
            "_model_module": "@jupyter-widgets/controls",
            "layout": "IPY_MODEL_6dd8d22a40fa4c92b01a7b7549979507"
          }
        },
        "df472c1c01854309acba58baf00a13d4": {
          "model_module": "@jupyter-widgets/controls",
          "model_name": "ProgressStyleModel",
          "state": {
            "_view_name": "StyleView",
            "_model_name": "ProgressStyleModel",
            "description_width": "initial",
            "_view_module": "@jupyter-widgets/base",
            "_model_module_version": "1.5.0",
            "_view_count": null,
            "_view_module_version": "1.2.0",
            "bar_color": null,
            "_model_module": "@jupyter-widgets/controls"
          }
        },
        "b421c7bd505b4e528a4bf77361042334": {
          "model_module": "@jupyter-widgets/base",
          "model_name": "LayoutModel",
          "state": {
            "_view_name": "LayoutView",
            "grid_template_rows": null,
            "right": null,
            "justify_content": null,
            "_view_module": "@jupyter-widgets/base",
            "overflow": null,
            "_model_module_version": "1.2.0",
            "_view_count": null,
            "flex_flow": null,
            "width": null,
            "min_width": null,
            "border": null,
            "align_items": null,
            "bottom": null,
            "_model_module": "@jupyter-widgets/base",
            "top": null,
            "grid_column": null,
            "overflow_y": null,
            "overflow_x": null,
            "grid_auto_flow": null,
            "grid_area": null,
            "grid_template_columns": null,
            "flex": null,
            "_model_name": "LayoutModel",
            "justify_items": null,
            "grid_row": null,
            "max_height": null,
            "align_content": null,
            "visibility": null,
            "align_self": null,
            "height": null,
            "min_height": null,
            "padding": null,
            "grid_auto_rows": null,
            "grid_gap": null,
            "max_width": null,
            "order": null,
            "_view_module_version": "1.2.0",
            "grid_template_areas": null,
            "object_position": null,
            "object_fit": null,
            "grid_auto_columns": null,
            "margin": null,
            "display": null,
            "left": null
          }
        },
        "b7b0c93ddc68457cbc72d2a1f31203ed": {
          "model_module": "@jupyter-widgets/controls",
          "model_name": "DescriptionStyleModel",
          "state": {
            "_view_name": "StyleView",
            "_model_name": "DescriptionStyleModel",
            "description_width": "",
            "_view_module": "@jupyter-widgets/base",
            "_model_module_version": "1.5.0",
            "_view_count": null,
            "_view_module_version": "1.2.0",
            "_model_module": "@jupyter-widgets/controls"
          }
        },
        "6dd8d22a40fa4c92b01a7b7549979507": {
          "model_module": "@jupyter-widgets/base",
          "model_name": "LayoutModel",
          "state": {
            "_view_name": "LayoutView",
            "grid_template_rows": null,
            "right": null,
            "justify_content": null,
            "_view_module": "@jupyter-widgets/base",
            "overflow": null,
            "_model_module_version": "1.2.0",
            "_view_count": null,
            "flex_flow": null,
            "width": null,
            "min_width": null,
            "border": null,
            "align_items": null,
            "bottom": null,
            "_model_module": "@jupyter-widgets/base",
            "top": null,
            "grid_column": null,
            "overflow_y": null,
            "overflow_x": null,
            "grid_auto_flow": null,
            "grid_area": null,
            "grid_template_columns": null,
            "flex": null,
            "_model_name": "LayoutModel",
            "justify_items": null,
            "grid_row": null,
            "max_height": null,
            "align_content": null,
            "visibility": null,
            "align_self": null,
            "height": null,
            "min_height": null,
            "padding": null,
            "grid_auto_rows": null,
            "grid_gap": null,
            "max_width": null,
            "order": null,
            "_view_module_version": "1.2.0",
            "grid_template_areas": null,
            "object_position": null,
            "object_fit": null,
            "grid_auto_columns": null,
            "margin": null,
            "display": null,
            "left": null
          }
        },
        "bb5214978d554f1e9447689178b4fcc9": {
          "model_module": "@jupyter-widgets/controls",
          "model_name": "HBoxModel",
          "state": {
            "_view_name": "HBoxView",
            "_dom_classes": [],
            "_model_name": "HBoxModel",
            "_view_module": "@jupyter-widgets/controls",
            "_model_module_version": "1.5.0",
            "_view_count": null,
            "_view_module_version": "1.5.0",
            "box_style": "",
            "layout": "IPY_MODEL_9af4b34c0f63447ea544d9bbcefd55df",
            "_model_module": "@jupyter-widgets/controls",
            "children": [
              "IPY_MODEL_b1f3faf0cff147b899146a465180c4af",
              "IPY_MODEL_ea500233ee6346479aebbc73a6c020cd"
            ]
          }
        },
        "9af4b34c0f63447ea544d9bbcefd55df": {
          "model_module": "@jupyter-widgets/base",
          "model_name": "LayoutModel",
          "state": {
            "_view_name": "LayoutView",
            "grid_template_rows": null,
            "right": null,
            "justify_content": null,
            "_view_module": "@jupyter-widgets/base",
            "overflow": null,
            "_model_module_version": "1.2.0",
            "_view_count": null,
            "flex_flow": null,
            "width": null,
            "min_width": null,
            "border": null,
            "align_items": null,
            "bottom": null,
            "_model_module": "@jupyter-widgets/base",
            "top": null,
            "grid_column": null,
            "overflow_y": null,
            "overflow_x": null,
            "grid_auto_flow": null,
            "grid_area": null,
            "grid_template_columns": null,
            "flex": null,
            "_model_name": "LayoutModel",
            "justify_items": null,
            "grid_row": null,
            "max_height": null,
            "align_content": null,
            "visibility": null,
            "align_self": null,
            "height": null,
            "min_height": null,
            "padding": null,
            "grid_auto_rows": null,
            "grid_gap": null,
            "max_width": null,
            "order": null,
            "_view_module_version": "1.2.0",
            "grid_template_areas": null,
            "object_position": null,
            "object_fit": null,
            "grid_auto_columns": null,
            "margin": null,
            "display": null,
            "left": null
          }
        },
        "b1f3faf0cff147b899146a465180c4af": {
          "model_module": "@jupyter-widgets/controls",
          "model_name": "IntProgressModel",
          "state": {
            "_view_name": "ProgressView",
            "style": "IPY_MODEL_a506d043a4ab4af38f125eec3dcb8fa8",
            "_dom_classes": [],
            "description": "epoch 3",
            "_model_name": "IntProgressModel",
            "bar_style": "success",
            "max": 704,
            "_view_module": "@jupyter-widgets/controls",
            "_model_module_version": "1.5.0",
            "value": 704,
            "_view_count": null,
            "_view_module_version": "1.5.0",
            "orientation": "horizontal",
            "min": 0,
            "description_tooltip": null,
            "_model_module": "@jupyter-widgets/controls",
            "layout": "IPY_MODEL_b2249b5a668e4f91bc17240b96b1f042"
          }
        },
        "ea500233ee6346479aebbc73a6c020cd": {
          "model_module": "@jupyter-widgets/controls",
          "model_name": "HTMLModel",
          "state": {
            "_view_name": "HTMLView",
            "style": "IPY_MODEL_c2c91e12e7de494aa733a2148cce63eb",
            "_dom_classes": [],
            "description": "",
            "_model_name": "HTMLModel",
            "placeholder": "​",
            "_view_module": "@jupyter-widgets/controls",
            "_model_module_version": "1.5.0",
            "value": "100% 704/704 [13:04&lt;00:00,  1.04s/it, loss=0.43538]",
            "_view_count": null,
            "_view_module_version": "1.5.0",
            "description_tooltip": null,
            "_model_module": "@jupyter-widgets/controls",
            "layout": "IPY_MODEL_9396273af2bf412eb156cea31361ce28"
          }
        },
        "a506d043a4ab4af38f125eec3dcb8fa8": {
          "model_module": "@jupyter-widgets/controls",
          "model_name": "ProgressStyleModel",
          "state": {
            "_view_name": "StyleView",
            "_model_name": "ProgressStyleModel",
            "description_width": "initial",
            "_view_module": "@jupyter-widgets/base",
            "_model_module_version": "1.5.0",
            "_view_count": null,
            "_view_module_version": "1.2.0",
            "bar_color": null,
            "_model_module": "@jupyter-widgets/controls"
          }
        },
        "b2249b5a668e4f91bc17240b96b1f042": {
          "model_module": "@jupyter-widgets/base",
          "model_name": "LayoutModel",
          "state": {
            "_view_name": "LayoutView",
            "grid_template_rows": null,
            "right": null,
            "justify_content": null,
            "_view_module": "@jupyter-widgets/base",
            "overflow": null,
            "_model_module_version": "1.2.0",
            "_view_count": null,
            "flex_flow": null,
            "width": null,
            "min_width": null,
            "border": null,
            "align_items": null,
            "bottom": null,
            "_model_module": "@jupyter-widgets/base",
            "top": null,
            "grid_column": null,
            "overflow_y": null,
            "overflow_x": null,
            "grid_auto_flow": null,
            "grid_area": null,
            "grid_template_columns": null,
            "flex": null,
            "_model_name": "LayoutModel",
            "justify_items": null,
            "grid_row": null,
            "max_height": null,
            "align_content": null,
            "visibility": null,
            "align_self": null,
            "height": null,
            "min_height": null,
            "padding": null,
            "grid_auto_rows": null,
            "grid_gap": null,
            "max_width": null,
            "order": null,
            "_view_module_version": "1.2.0",
            "grid_template_areas": null,
            "object_position": null,
            "object_fit": null,
            "grid_auto_columns": null,
            "margin": null,
            "display": null,
            "left": null
          }
        },
        "c2c91e12e7de494aa733a2148cce63eb": {
          "model_module": "@jupyter-widgets/controls",
          "model_name": "DescriptionStyleModel",
          "state": {
            "_view_name": "StyleView",
            "_model_name": "DescriptionStyleModel",
            "description_width": "",
            "_view_module": "@jupyter-widgets/base",
            "_model_module_version": "1.5.0",
            "_view_count": null,
            "_view_module_version": "1.2.0",
            "_model_module": "@jupyter-widgets/controls"
          }
        },
        "9396273af2bf412eb156cea31361ce28": {
          "model_module": "@jupyter-widgets/base",
          "model_name": "LayoutModel",
          "state": {
            "_view_name": "LayoutView",
            "grid_template_rows": null,
            "right": null,
            "justify_content": null,
            "_view_module": "@jupyter-widgets/base",
            "overflow": null,
            "_model_module_version": "1.2.0",
            "_view_count": null,
            "flex_flow": null,
            "width": null,
            "min_width": null,
            "border": null,
            "align_items": null,
            "bottom": null,
            "_model_module": "@jupyter-widgets/base",
            "top": null,
            "grid_column": null,
            "overflow_y": null,
            "overflow_x": null,
            "grid_auto_flow": null,
            "grid_area": null,
            "grid_template_columns": null,
            "flex": null,
            "_model_name": "LayoutModel",
            "justify_items": null,
            "grid_row": null,
            "max_height": null,
            "align_content": null,
            "visibility": null,
            "align_self": null,
            "height": null,
            "min_height": null,
            "padding": null,
            "grid_auto_rows": null,
            "grid_gap": null,
            "max_width": null,
            "order": null,
            "_view_module_version": "1.2.0",
            "grid_template_areas": null,
            "object_position": null,
            "object_fit": null,
            "grid_auto_columns": null,
            "margin": null,
            "display": null,
            "left": null
          }
        },
        "7784490f53264aff94cdfb938d7a3616": {
          "model_module": "@jupyter-widgets/controls",
          "model_name": "HBoxModel",
          "state": {
            "_view_name": "HBoxView",
            "_dom_classes": [],
            "_model_name": "HBoxModel",
            "_view_module": "@jupyter-widgets/controls",
            "_model_module_version": "1.5.0",
            "_view_count": null,
            "_view_module_version": "1.5.0",
            "box_style": "",
            "layout": "IPY_MODEL_9d5e38ffcdff4e6989848ee5a2368b8d",
            "_model_module": "@jupyter-widgets/controls",
            "children": [
              "IPY_MODEL_13ba01155dc64642843b4faea2cdb032",
              "IPY_MODEL_4c13cdcdae564aad938eb8827ef98660"
            ]
          }
        },
        "9d5e38ffcdff4e6989848ee5a2368b8d": {
          "model_module": "@jupyter-widgets/base",
          "model_name": "LayoutModel",
          "state": {
            "_view_name": "LayoutView",
            "grid_template_rows": null,
            "right": null,
            "justify_content": null,
            "_view_module": "@jupyter-widgets/base",
            "overflow": null,
            "_model_module_version": "1.2.0",
            "_view_count": null,
            "flex_flow": null,
            "width": null,
            "min_width": null,
            "border": null,
            "align_items": null,
            "bottom": null,
            "_model_module": "@jupyter-widgets/base",
            "top": null,
            "grid_column": null,
            "overflow_y": null,
            "overflow_x": null,
            "grid_auto_flow": null,
            "grid_area": null,
            "grid_template_columns": null,
            "flex": null,
            "_model_name": "LayoutModel",
            "justify_items": null,
            "grid_row": null,
            "max_height": null,
            "align_content": null,
            "visibility": null,
            "align_self": null,
            "height": null,
            "min_height": null,
            "padding": null,
            "grid_auto_rows": null,
            "grid_gap": null,
            "max_width": null,
            "order": null,
            "_view_module_version": "1.2.0",
            "grid_template_areas": null,
            "object_position": null,
            "object_fit": null,
            "grid_auto_columns": null,
            "margin": null,
            "display": null,
            "left": null
          }
        },
        "13ba01155dc64642843b4faea2cdb032": {
          "model_module": "@jupyter-widgets/controls",
          "model_name": "IntProgressModel",
          "state": {
            "_view_name": "ProgressView",
            "style": "IPY_MODEL_09435bf406ca4837836e635fad4186db",
            "_dom_classes": [],
            "description": "epoch 4",
            "_model_name": "IntProgressModel",
            "bar_style": "success",
            "max": 704,
            "_view_module": "@jupyter-widgets/controls",
            "_model_module_version": "1.5.0",
            "value": 704,
            "_view_count": null,
            "_view_module_version": "1.5.0",
            "orientation": "horizontal",
            "min": 0,
            "description_tooltip": null,
            "_model_module": "@jupyter-widgets/controls",
            "layout": "IPY_MODEL_16a99f112d7c4b2aa570aed38a4443c4"
          }
        },
        "4c13cdcdae564aad938eb8827ef98660": {
          "model_module": "@jupyter-widgets/controls",
          "model_name": "HTMLModel",
          "state": {
            "_view_name": "HTMLView",
            "style": "IPY_MODEL_e5f209c41d53425ea8f6a73982109ec6",
            "_dom_classes": [],
            "description": "",
            "_model_name": "HTMLModel",
            "placeholder": "​",
            "_view_module": "@jupyter-widgets/controls",
            "_model_module_version": "1.5.0",
            "value": "100% 704/704 [13:06&lt;00:00,  1.02it/s, loss=0.20794]",
            "_view_count": null,
            "_view_module_version": "1.5.0",
            "description_tooltip": null,
            "_model_module": "@jupyter-widgets/controls",
            "layout": "IPY_MODEL_8b5746ae879e49d2978bf1bd9e152e26"
          }
        },
        "09435bf406ca4837836e635fad4186db": {
          "model_module": "@jupyter-widgets/controls",
          "model_name": "ProgressStyleModel",
          "state": {
            "_view_name": "StyleView",
            "_model_name": "ProgressStyleModel",
            "description_width": "initial",
            "_view_module": "@jupyter-widgets/base",
            "_model_module_version": "1.5.0",
            "_view_count": null,
            "_view_module_version": "1.2.0",
            "bar_color": null,
            "_model_module": "@jupyter-widgets/controls"
          }
        },
        "16a99f112d7c4b2aa570aed38a4443c4": {
          "model_module": "@jupyter-widgets/base",
          "model_name": "LayoutModel",
          "state": {
            "_view_name": "LayoutView",
            "grid_template_rows": null,
            "right": null,
            "justify_content": null,
            "_view_module": "@jupyter-widgets/base",
            "overflow": null,
            "_model_module_version": "1.2.0",
            "_view_count": null,
            "flex_flow": null,
            "width": null,
            "min_width": null,
            "border": null,
            "align_items": null,
            "bottom": null,
            "_model_module": "@jupyter-widgets/base",
            "top": null,
            "grid_column": null,
            "overflow_y": null,
            "overflow_x": null,
            "grid_auto_flow": null,
            "grid_area": null,
            "grid_template_columns": null,
            "flex": null,
            "_model_name": "LayoutModel",
            "justify_items": null,
            "grid_row": null,
            "max_height": null,
            "align_content": null,
            "visibility": null,
            "align_self": null,
            "height": null,
            "min_height": null,
            "padding": null,
            "grid_auto_rows": null,
            "grid_gap": null,
            "max_width": null,
            "order": null,
            "_view_module_version": "1.2.0",
            "grid_template_areas": null,
            "object_position": null,
            "object_fit": null,
            "grid_auto_columns": null,
            "margin": null,
            "display": null,
            "left": null
          }
        },
        "e5f209c41d53425ea8f6a73982109ec6": {
          "model_module": "@jupyter-widgets/controls",
          "model_name": "DescriptionStyleModel",
          "state": {
            "_view_name": "StyleView",
            "_model_name": "DescriptionStyleModel",
            "description_width": "",
            "_view_module": "@jupyter-widgets/base",
            "_model_module_version": "1.5.0",
            "_view_count": null,
            "_view_module_version": "1.2.0",
            "_model_module": "@jupyter-widgets/controls"
          }
        },
        "8b5746ae879e49d2978bf1bd9e152e26": {
          "model_module": "@jupyter-widgets/base",
          "model_name": "LayoutModel",
          "state": {
            "_view_name": "LayoutView",
            "grid_template_rows": null,
            "right": null,
            "justify_content": null,
            "_view_module": "@jupyter-widgets/base",
            "overflow": null,
            "_model_module_version": "1.2.0",
            "_view_count": null,
            "flex_flow": null,
            "width": null,
            "min_width": null,
            "border": null,
            "align_items": null,
            "bottom": null,
            "_model_module": "@jupyter-widgets/base",
            "top": null,
            "grid_column": null,
            "overflow_y": null,
            "overflow_x": null,
            "grid_auto_flow": null,
            "grid_area": null,
            "grid_template_columns": null,
            "flex": null,
            "_model_name": "LayoutModel",
            "justify_items": null,
            "grid_row": null,
            "max_height": null,
            "align_content": null,
            "visibility": null,
            "align_self": null,
            "height": null,
            "min_height": null,
            "padding": null,
            "grid_auto_rows": null,
            "grid_gap": null,
            "max_width": null,
            "order": null,
            "_view_module_version": "1.2.0",
            "grid_template_areas": null,
            "object_position": null,
            "object_fit": null,
            "grid_auto_columns": null,
            "margin": null,
            "display": null,
            "left": null
          }
        },
        "1298be9368134329ac540828a01c4c7e": {
          "model_module": "@jupyter-widgets/controls",
          "model_name": "HBoxModel",
          "state": {
            "_view_name": "HBoxView",
            "_dom_classes": [],
            "_model_name": "HBoxModel",
            "_view_module": "@jupyter-widgets/controls",
            "_model_module_version": "1.5.0",
            "_view_count": null,
            "_view_module_version": "1.5.0",
            "box_style": "",
            "layout": "IPY_MODEL_a85c0a5cc53642ea82edaca72a9e386f",
            "_model_module": "@jupyter-widgets/controls",
            "children": [
              "IPY_MODEL_ab9937d5979f49ea80e1b88230616283",
              "IPY_MODEL_2b15643e981f403f910a7948032d7f97"
            ]
          }
        },
        "a85c0a5cc53642ea82edaca72a9e386f": {
          "model_module": "@jupyter-widgets/base",
          "model_name": "LayoutModel",
          "state": {
            "_view_name": "LayoutView",
            "grid_template_rows": null,
            "right": null,
            "justify_content": null,
            "_view_module": "@jupyter-widgets/base",
            "overflow": null,
            "_model_module_version": "1.2.0",
            "_view_count": null,
            "flex_flow": null,
            "width": null,
            "min_width": null,
            "border": null,
            "align_items": null,
            "bottom": null,
            "_model_module": "@jupyter-widgets/base",
            "top": null,
            "grid_column": null,
            "overflow_y": null,
            "overflow_x": null,
            "grid_auto_flow": null,
            "grid_area": null,
            "grid_template_columns": null,
            "flex": null,
            "_model_name": "LayoutModel",
            "justify_items": null,
            "grid_row": null,
            "max_height": null,
            "align_content": null,
            "visibility": null,
            "align_self": null,
            "height": null,
            "min_height": null,
            "padding": null,
            "grid_auto_rows": null,
            "grid_gap": null,
            "max_width": null,
            "order": null,
            "_view_module_version": "1.2.0",
            "grid_template_areas": null,
            "object_position": null,
            "object_fit": null,
            "grid_auto_columns": null,
            "margin": null,
            "display": null,
            "left": null
          }
        },
        "ab9937d5979f49ea80e1b88230616283": {
          "model_module": "@jupyter-widgets/controls",
          "model_name": "IntProgressModel",
          "state": {
            "_view_name": "ProgressView",
            "style": "IPY_MODEL_5e3486be3ad24546806922384ead441b",
            "_dom_classes": [],
            "description": "epoch 5",
            "_model_name": "IntProgressModel",
            "bar_style": "success",
            "max": 704,
            "_view_module": "@jupyter-widgets/controls",
            "_model_module_version": "1.5.0",
            "value": 704,
            "_view_count": null,
            "_view_module_version": "1.5.0",
            "orientation": "horizontal",
            "min": 0,
            "description_tooltip": null,
            "_model_module": "@jupyter-widgets/controls",
            "layout": "IPY_MODEL_569a174ec83544109ed20e44c4befc61"
          }
        },
        "2b15643e981f403f910a7948032d7f97": {
          "model_module": "@jupyter-widgets/controls",
          "model_name": "HTMLModel",
          "state": {
            "_view_name": "HTMLView",
            "style": "IPY_MODEL_05a42e6f145a48d995e24c69e0ed68fa",
            "_dom_classes": [],
            "description": "",
            "_model_name": "HTMLModel",
            "placeholder": "​",
            "_view_module": "@jupyter-widgets/controls",
            "_model_module_version": "1.5.0",
            "value": "100% 704/704 [13:06&lt;00:00,  1.05it/s, loss=0.17504]",
            "_view_count": null,
            "_view_module_version": "1.5.0",
            "description_tooltip": null,
            "_model_module": "@jupyter-widgets/controls",
            "layout": "IPY_MODEL_fb62d64bfcf347cd8f4ec4539cf1dfc4"
          }
        },
        "5e3486be3ad24546806922384ead441b": {
          "model_module": "@jupyter-widgets/controls",
          "model_name": "ProgressStyleModel",
          "state": {
            "_view_name": "StyleView",
            "_model_name": "ProgressStyleModel",
            "description_width": "initial",
            "_view_module": "@jupyter-widgets/base",
            "_model_module_version": "1.5.0",
            "_view_count": null,
            "_view_module_version": "1.2.0",
            "bar_color": null,
            "_model_module": "@jupyter-widgets/controls"
          }
        },
        "569a174ec83544109ed20e44c4befc61": {
          "model_module": "@jupyter-widgets/base",
          "model_name": "LayoutModel",
          "state": {
            "_view_name": "LayoutView",
            "grid_template_rows": null,
            "right": null,
            "justify_content": null,
            "_view_module": "@jupyter-widgets/base",
            "overflow": null,
            "_model_module_version": "1.2.0",
            "_view_count": null,
            "flex_flow": null,
            "width": null,
            "min_width": null,
            "border": null,
            "align_items": null,
            "bottom": null,
            "_model_module": "@jupyter-widgets/base",
            "top": null,
            "grid_column": null,
            "overflow_y": null,
            "overflow_x": null,
            "grid_auto_flow": null,
            "grid_area": null,
            "grid_template_columns": null,
            "flex": null,
            "_model_name": "LayoutModel",
            "justify_items": null,
            "grid_row": null,
            "max_height": null,
            "align_content": null,
            "visibility": null,
            "align_self": null,
            "height": null,
            "min_height": null,
            "padding": null,
            "grid_auto_rows": null,
            "grid_gap": null,
            "max_width": null,
            "order": null,
            "_view_module_version": "1.2.0",
            "grid_template_areas": null,
            "object_position": null,
            "object_fit": null,
            "grid_auto_columns": null,
            "margin": null,
            "display": null,
            "left": null
          }
        },
        "05a42e6f145a48d995e24c69e0ed68fa": {
          "model_module": "@jupyter-widgets/controls",
          "model_name": "DescriptionStyleModel",
          "state": {
            "_view_name": "StyleView",
            "_model_name": "DescriptionStyleModel",
            "description_width": "",
            "_view_module": "@jupyter-widgets/base",
            "_model_module_version": "1.5.0",
            "_view_count": null,
            "_view_module_version": "1.2.0",
            "_model_module": "@jupyter-widgets/controls"
          }
        },
        "fb62d64bfcf347cd8f4ec4539cf1dfc4": {
          "model_module": "@jupyter-widgets/base",
          "model_name": "LayoutModel",
          "state": {
            "_view_name": "LayoutView",
            "grid_template_rows": null,
            "right": null,
            "justify_content": null,
            "_view_module": "@jupyter-widgets/base",
            "overflow": null,
            "_model_module_version": "1.2.0",
            "_view_count": null,
            "flex_flow": null,
            "width": null,
            "min_width": null,
            "border": null,
            "align_items": null,
            "bottom": null,
            "_model_module": "@jupyter-widgets/base",
            "top": null,
            "grid_column": null,
            "overflow_y": null,
            "overflow_x": null,
            "grid_auto_flow": null,
            "grid_area": null,
            "grid_template_columns": null,
            "flex": null,
            "_model_name": "LayoutModel",
            "justify_items": null,
            "grid_row": null,
            "max_height": null,
            "align_content": null,
            "visibility": null,
            "align_self": null,
            "height": null,
            "min_height": null,
            "padding": null,
            "grid_auto_rows": null,
            "grid_gap": null,
            "max_width": null,
            "order": null,
            "_view_module_version": "1.2.0",
            "grid_template_areas": null,
            "object_position": null,
            "object_fit": null,
            "grid_auto_columns": null,
            "margin": null,
            "display": null,
            "left": null
          }
        },
        "eb1c3b39ca1b458cbcbbf5c9dbfedd91": {
          "model_module": "@jupyter-widgets/controls",
          "model_name": "HBoxModel",
          "state": {
            "_view_name": "HBoxView",
            "_dom_classes": [],
            "_model_name": "HBoxModel",
            "_view_module": "@jupyter-widgets/controls",
            "_model_module_version": "1.5.0",
            "_view_count": null,
            "_view_module_version": "1.5.0",
            "box_style": "",
            "layout": "IPY_MODEL_0d7bc50db4a44afa90561a9290334e0f",
            "_model_module": "@jupyter-widgets/controls",
            "children": [
              "IPY_MODEL_bdd55111f44d4a93a4ecd58733ca1b6b",
              "IPY_MODEL_daa4ec5c1cf8449089aec95f73206e11"
            ]
          }
        },
        "0d7bc50db4a44afa90561a9290334e0f": {
          "model_module": "@jupyter-widgets/base",
          "model_name": "LayoutModel",
          "state": {
            "_view_name": "LayoutView",
            "grid_template_rows": null,
            "right": null,
            "justify_content": null,
            "_view_module": "@jupyter-widgets/base",
            "overflow": null,
            "_model_module_version": "1.2.0",
            "_view_count": null,
            "flex_flow": null,
            "width": null,
            "min_width": null,
            "border": null,
            "align_items": null,
            "bottom": null,
            "_model_module": "@jupyter-widgets/base",
            "top": null,
            "grid_column": null,
            "overflow_y": null,
            "overflow_x": null,
            "grid_auto_flow": null,
            "grid_area": null,
            "grid_template_columns": null,
            "flex": null,
            "_model_name": "LayoutModel",
            "justify_items": null,
            "grid_row": null,
            "max_height": null,
            "align_content": null,
            "visibility": null,
            "align_self": null,
            "height": null,
            "min_height": null,
            "padding": null,
            "grid_auto_rows": null,
            "grid_gap": null,
            "max_width": null,
            "order": null,
            "_view_module_version": "1.2.0",
            "grid_template_areas": null,
            "object_position": null,
            "object_fit": null,
            "grid_auto_columns": null,
            "margin": null,
            "display": null,
            "left": null
          }
        },
        "bdd55111f44d4a93a4ecd58733ca1b6b": {
          "model_module": "@jupyter-widgets/controls",
          "model_name": "IntProgressModel",
          "state": {
            "_view_name": "ProgressView",
            "style": "IPY_MODEL_8b1ff2582e4b4a53996b139742d59c38",
            "_dom_classes": [],
            "description": "",
            "_model_name": "IntProgressModel",
            "bar_style": "success",
            "max": 782,
            "_view_module": "@jupyter-widgets/controls",
            "_model_module_version": "1.5.0",
            "value": 782,
            "_view_count": null,
            "_view_module_version": "1.5.0",
            "orientation": "horizontal",
            "min": 0,
            "description_tooltip": null,
            "_model_module": "@jupyter-widgets/controls",
            "layout": "IPY_MODEL_6d0de6843cab4eeab845923a67ba2589"
          }
        },
        "daa4ec5c1cf8449089aec95f73206e11": {
          "model_module": "@jupyter-widgets/controls",
          "model_name": "HTMLModel",
          "state": {
            "_view_name": "HTMLView",
            "style": "IPY_MODEL_dfbd0a67c48b493cb9d2210be00c5345",
            "_dom_classes": [],
            "description": "",
            "_model_name": "HTMLModel",
            "placeholder": "​",
            "_view_module": "@jupyter-widgets/controls",
            "_model_module_version": "1.5.0",
            "value": "100% 782/782 [01:17&lt;00:00,  2.51it/s]",
            "_view_count": null,
            "_view_module_version": "1.5.0",
            "description_tooltip": null,
            "_model_module": "@jupyter-widgets/controls",
            "layout": "IPY_MODEL_cc24739498a2457db467a5fee7ad4954"
          }
        },
        "8b1ff2582e4b4a53996b139742d59c38": {
          "model_module": "@jupyter-widgets/controls",
          "model_name": "ProgressStyleModel",
          "state": {
            "_view_name": "StyleView",
            "_model_name": "ProgressStyleModel",
            "description_width": "",
            "_view_module": "@jupyter-widgets/base",
            "_model_module_version": "1.5.0",
            "_view_count": null,
            "_view_module_version": "1.2.0",
            "bar_color": null,
            "_model_module": "@jupyter-widgets/controls"
          }
        },
        "6d0de6843cab4eeab845923a67ba2589": {
          "model_module": "@jupyter-widgets/base",
          "model_name": "LayoutModel",
          "state": {
            "_view_name": "LayoutView",
            "grid_template_rows": null,
            "right": null,
            "justify_content": null,
            "_view_module": "@jupyter-widgets/base",
            "overflow": null,
            "_model_module_version": "1.2.0",
            "_view_count": null,
            "flex_flow": null,
            "width": null,
            "min_width": null,
            "border": null,
            "align_items": null,
            "bottom": null,
            "_model_module": "@jupyter-widgets/base",
            "top": null,
            "grid_column": null,
            "overflow_y": null,
            "overflow_x": null,
            "grid_auto_flow": null,
            "grid_area": null,
            "grid_template_columns": null,
            "flex": null,
            "_model_name": "LayoutModel",
            "justify_items": null,
            "grid_row": null,
            "max_height": null,
            "align_content": null,
            "visibility": null,
            "align_self": null,
            "height": null,
            "min_height": null,
            "padding": null,
            "grid_auto_rows": null,
            "grid_gap": null,
            "max_width": null,
            "order": null,
            "_view_module_version": "1.2.0",
            "grid_template_areas": null,
            "object_position": null,
            "object_fit": null,
            "grid_auto_columns": null,
            "margin": null,
            "display": null,
            "left": null
          }
        },
        "dfbd0a67c48b493cb9d2210be00c5345": {
          "model_module": "@jupyter-widgets/controls",
          "model_name": "DescriptionStyleModel",
          "state": {
            "_view_name": "StyleView",
            "_model_name": "DescriptionStyleModel",
            "description_width": "",
            "_view_module": "@jupyter-widgets/base",
            "_model_module_version": "1.5.0",
            "_view_count": null,
            "_view_module_version": "1.2.0",
            "_model_module": "@jupyter-widgets/controls"
          }
        },
        "cc24739498a2457db467a5fee7ad4954": {
          "model_module": "@jupyter-widgets/base",
          "model_name": "LayoutModel",
          "state": {
            "_view_name": "LayoutView",
            "grid_template_rows": null,
            "right": null,
            "justify_content": null,
            "_view_module": "@jupyter-widgets/base",
            "overflow": null,
            "_model_module_version": "1.2.0",
            "_view_count": null,
            "flex_flow": null,
            "width": null,
            "min_width": null,
            "border": null,
            "align_items": null,
            "bottom": null,
            "_model_module": "@jupyter-widgets/base",
            "top": null,
            "grid_column": null,
            "overflow_y": null,
            "overflow_x": null,
            "grid_auto_flow": null,
            "grid_area": null,
            "grid_template_columns": null,
            "flex": null,
            "_model_name": "LayoutModel",
            "justify_items": null,
            "grid_row": null,
            "max_height": null,
            "align_content": null,
            "visibility": null,
            "align_self": null,
            "height": null,
            "min_height": null,
            "padding": null,
            "grid_auto_rows": null,
            "grid_gap": null,
            "max_width": null,
            "order": null,
            "_view_module_version": "1.2.0",
            "grid_template_areas": null,
            "object_position": null,
            "object_fit": null,
            "grid_auto_columns": null,
            "margin": null,
            "display": null,
            "left": null
          }
        }
      }
    }
  },
  "cells": [
    {
      "cell_type": "code",
      "metadata": {
        "id": "iBpZLgQW28tq",
        "colab_type": "code",
        "outputId": "7982f195-b46c-43f3-b3b7-801220eb9410",
        "colab": {
          "base_uri": "https://localhost:8080/",
          "height": 121
        }
      },
      "source": [
        "from google.colab import drive\n",
        "drive.mount('/content/drive', force_remount=True)"
      ],
      "execution_count": 0,
      "outputs": [
        {
          "output_type": "stream",
          "text": [
            "Go to this URL in a browser: https://accounts.google.com/o/oauth2/auth?client_id=947318989803-6bn6qk8qdgf4n4g3pfee6491hc0brc4i.apps.googleusercontent.com&redirect_uri=urn%3aietf%3awg%3aoauth%3a2.0%3aoob&response_type=code&scope=email%20https%3a%2f%2fwww.googleapis.com%2fauth%2fdocs.test%20https%3a%2f%2fwww.googleapis.com%2fauth%2fdrive%20https%3a%2f%2fwww.googleapis.com%2fauth%2fdrive.photos.readonly%20https%3a%2f%2fwww.googleapis.com%2fauth%2fpeopleapi.readonly\n",
            "\n",
            "Enter your authorization code:\n",
            "··········\n",
            "Mounted at /content/drive\n"
          ],
          "name": "stdout"
        }
      ]
    },
    {
      "cell_type": "code",
      "metadata": {
        "id": "vvb-XWu231i7",
        "colab_type": "code",
        "outputId": "01a81316-9f18-44a6-bb19-f15de5ef9315",
        "colab": {
          "base_uri": "https://localhost:8080/",
          "height": 50
        }
      },
      "source": [
        "!cp /content/drive/My\\ Drive/imdb-review-dataset.zip .\n",
        "!unzip imdb-review-dataset.zip"
      ],
      "execution_count": 0,
      "outputs": [
        {
          "output_type": "stream",
          "text": [
            "Archive:  imdb-review-dataset.zip\n",
            "  inflating: imdb_master.csv         \n"
          ],
          "name": "stdout"
        }
      ]
    },
    {
      "cell_type": "code",
      "metadata": {
        "id": "rdWFDV4V4C7W",
        "colab_type": "code",
        "outputId": "fb763026-662d-4c75-b4b3-b79590044946",
        "colab": {
          "base_uri": "https://localhost:8080/",
          "height": 218
        }
      },
      "source": [
        "!pip install glove_python"
      ],
      "execution_count": 0,
      "outputs": [
        {
          "output_type": "stream",
          "text": [
            "Collecting glove_python\n",
            "\u001b[?25l  Downloading https://files.pythonhosted.org/packages/3e/79/7e7e548dd9dcb741935d031117f4bed133276c2a047aadad42f1552d1771/glove_python-0.1.0.tar.gz (263kB)\n",
            "\u001b[K     |████████████████████████████████| 266kB 2.7MB/s \n",
            "\u001b[?25hRequirement already satisfied: numpy in /usr/local/lib/python3.6/dist-packages (from glove_python) (1.17.4)\n",
            "Requirement already satisfied: scipy in /usr/local/lib/python3.6/dist-packages (from glove_python) (1.3.3)\n",
            "Building wheels for collected packages: glove-python\n",
            "  Building wheel for glove-python (setup.py) ... \u001b[?25l\u001b[?25hdone\n",
            "  Created wheel for glove-python: filename=glove_python-0.1.0-cp36-cp36m-linux_x86_64.whl size=700349 sha256=62438ce92ccaeadf8273eb015b749adc2e72abb6f318600f531bf88bce49745a\n",
            "  Stored in directory: /root/.cache/pip/wheels/88/4b/6d/10c0d2ad32c9d9d68beec9694a6f0b6e83ab1662a90a089a4b\n",
            "Successfully built glove-python\n",
            "Installing collected packages: glove-python\n",
            "Successfully installed glove-python-0.1.0\n"
          ],
          "name": "stdout"
        }
      ]
    },
    {
      "cell_type": "markdown",
      "metadata": {
        "id": "pF1fZfOA4n4g",
        "colab_type": "text"
      },
      "source": [
        "*Yes, all the imports are hidden here*"
      ]
    },
    {
      "cell_type": "code",
      "metadata": {
        "id": "hDLnILLa4ur-",
        "colab_type": "code",
        "outputId": "c28976fa-7f37-427d-d857-b7d5c1e2598b",
        "colab": {
          "base_uri": "https://localhost:8080/",
          "height": 70
        }
      },
      "source": [
        "import os\n",
        "import pandas as pd\n",
        "import numpy as np\n",
        "from sklearn.externals import joblib\n",
        "import nltk\n",
        "import gensim\n",
        "import spacy\n",
        "import pickle\n",
        "import torchtext\n",
        "\n",
        "from sklearn import metrics\n",
        "\n",
        "import torch as tt\n",
        "import torch.nn as nn\n",
        "import torch.nn.functional as F\n",
        "import torch.optim as optim\n",
        "\n",
        "from torchtext.data import Field, LabelField, BucketIterator, TabularDataset, Iterator\n",
        "\n",
        "from glove import Corpus, Glove\n",
        "from tqdm import tqdm_notebook\n",
        "from sklearn.metrics import accuracy_score\n",
        "\n",
        "SEED = 42\n",
        "np.random.seed(SEED)"
      ],
      "execution_count": 0,
      "outputs": [
        {
          "output_type": "stream",
          "text": [
            "/usr/local/lib/python3.6/dist-packages/sklearn/externals/joblib/__init__.py:15: DeprecationWarning: sklearn.externals.joblib is deprecated in 0.21 and will be removed in 0.23. Please import this functionality directly from joblib, which can be installed with: pip install joblib. If this warning is raised when loading pickled models, you may need to re-serialize those models with scikit-learn 0.21+.\n",
            "  warnings.warn(msg, category=DeprecationWarning)\n"
          ],
          "name": "stderr"
        }
      ]
    },
    {
      "cell_type": "code",
      "metadata": {
        "id": "VKieKV0Ph-jV",
        "colab_type": "code",
        "colab": {}
      },
      "source": [
        "# facilitating pickle dumps and loads\n",
        "\n",
        "def pickle_save(obj, filename):\n",
        "  with open(filename, \"wb\") as outp:\n",
        "    pickle.dump(obj, outp)\n",
        "\n",
        "def pickle_load(filename):\n",
        "  with open(filename, \"rb\") as inp:\n",
        "    return pickle.load(inp)"
      ],
      "execution_count": 0,
      "outputs": []
    },
    {
      "cell_type": "markdown",
      "metadata": {
        "id": "h-SIzsws2v0Z",
        "colab_type": "text"
      },
      "source": [
        "# Assignment 5\n",
        "\n",
        "*Build CNN model for sentiment analysis (binary classification) of IMDB Reviews (https://www.kaggle.com/utathya/imdb-review-dataset).\n",
        "You can use data with label=\"unsup\" for pretraining of embeddings. Here you are forbidden to use test dataset for pretraining of embeddings.  \n",
        "Your quality metric is accuracy score on test dataset. Look at \"type\" column for  train/test split.  \n",
        "You can use pretrained embeddings from external sources.  \n",
        "You have to provide data for trials with different hyperparameter values.*\n",
        "\n",
        "*You have to beat following baselines:  \n",
        "[3 points] acc = 0.75  \n",
        "[5 points] acc = 0.8  \n",
        "[8 points] acc = 0.9  \n",
        "[2 points] for using unsupervised data*"
      ]
    },
    {
      "cell_type": "markdown",
      "metadata": {
        "id": "lViYeHyH4eIG",
        "colab_type": "text"
      },
      "source": [
        "Let's load our data first and take a glance at it:"
      ]
    },
    {
      "cell_type": "code",
      "metadata": {
        "id": "Jczv3TwF5CPf",
        "colab_type": "code",
        "outputId": "16c75f15-9d7a-4661-802f-1dd916a73c19",
        "colab": {
          "base_uri": "https://localhost:8080/",
          "height": 195
        }
      },
      "source": [
        "data = pd.read_csv(\"imdb_master.csv\", encoding='cp1251')\n",
        "data.head()"
      ],
      "execution_count": 0,
      "outputs": [
        {
          "output_type": "execute_result",
          "data": {
            "text/html": [
              "<div>\n",
              "<style scoped>\n",
              "    .dataframe tbody tr th:only-of-type {\n",
              "        vertical-align: middle;\n",
              "    }\n",
              "\n",
              "    .dataframe tbody tr th {\n",
              "        vertical-align: top;\n",
              "    }\n",
              "\n",
              "    .dataframe thead th {\n",
              "        text-align: right;\n",
              "    }\n",
              "</style>\n",
              "<table border=\"1\" class=\"dataframe\">\n",
              "  <thead>\n",
              "    <tr style=\"text-align: right;\">\n",
              "      <th></th>\n",
              "      <th>Unnamed: 0</th>\n",
              "      <th>type</th>\n",
              "      <th>review</th>\n",
              "      <th>label</th>\n",
              "      <th>file</th>\n",
              "    </tr>\n",
              "  </thead>\n",
              "  <tbody>\n",
              "    <tr>\n",
              "      <th>0</th>\n",
              "      <td>0</td>\n",
              "      <td>test</td>\n",
              "      <td>Once again Mr. Costner has dragged out a movie...</td>\n",
              "      <td>neg</td>\n",
              "      <td>0_2.txt</td>\n",
              "    </tr>\n",
              "    <tr>\n",
              "      <th>1</th>\n",
              "      <td>1</td>\n",
              "      <td>test</td>\n",
              "      <td>This is an example of why the majority of acti...</td>\n",
              "      <td>neg</td>\n",
              "      <td>10000_4.txt</td>\n",
              "    </tr>\n",
              "    <tr>\n",
              "      <th>2</th>\n",
              "      <td>2</td>\n",
              "      <td>test</td>\n",
              "      <td>First of all I hate those moronic rappers, who...</td>\n",
              "      <td>neg</td>\n",
              "      <td>10001_1.txt</td>\n",
              "    </tr>\n",
              "    <tr>\n",
              "      <th>3</th>\n",
              "      <td>3</td>\n",
              "      <td>test</td>\n",
              "      <td>Not even the Beatles could write songs everyon...</td>\n",
              "      <td>neg</td>\n",
              "      <td>10002_3.txt</td>\n",
              "    </tr>\n",
              "    <tr>\n",
              "      <th>4</th>\n",
              "      <td>4</td>\n",
              "      <td>test</td>\n",
              "      <td>Brass pictures (movies is not a fitting word f...</td>\n",
              "      <td>neg</td>\n",
              "      <td>10003_3.txt</td>\n",
              "    </tr>\n",
              "  </tbody>\n",
              "</table>\n",
              "</div>"
            ],
            "text/plain": [
              "   Unnamed: 0  type  ... label         file\n",
              "0           0  test  ...   neg      0_2.txt\n",
              "1           1  test  ...   neg  10000_4.txt\n",
              "2           2  test  ...   neg  10001_1.txt\n",
              "3           3  test  ...   neg  10002_3.txt\n",
              "4           4  test  ...   neg  10003_3.txt\n",
              "\n",
              "[5 rows x 5 columns]"
            ]
          },
          "metadata": {
            "tags": []
          },
          "execution_count": 6
        }
      ]
    },
    {
      "cell_type": "markdown",
      "metadata": {
        "id": "h8cIKne7hXbF",
        "colab_type": "text"
      },
      "source": [
        "Let's apply a couple of fixes and look at `unsup`:"
      ]
    },
    {
      "cell_type": "code",
      "metadata": {
        "id": "v8rRAICZhLiY",
        "colab_type": "code",
        "outputId": "94adae44-cbc4-40a1-cd87-caa88b4c70f0",
        "colab": {
          "base_uri": "https://localhost:8080/",
          "height": 34
        }
      },
      "source": [
        "data = data.drop(\"Unnamed: 0\", axis=1)\n",
        "data['review'] = data['review'].apply(lambda x: x.replace(\"<br />\", \"\\n\"))\n",
        "data = data.sample(frac=1).reset_index(drop=True)\n",
        "\n",
        "data.loc[data['label'] == \"unsup\"].sample(5)\n",
        "len(data.loc[data['label'] == \"unsup\"])"
      ],
      "execution_count": 0,
      "outputs": [
        {
          "output_type": "execute_result",
          "data": {
            "text/plain": [
              "50000"
            ]
          },
          "metadata": {
            "tags": []
          },
          "execution_count": 7
        }
      ]
    },
    {
      "cell_type": "markdown",
      "metadata": {
        "id": "arL5PCH25sxn",
        "colab_type": "text"
      },
      "source": [
        "Alright, so, if we cannot use such a huge chunk of data, let's at least make something useful out of it — specifically, a GloVe model. But first, let's establish our preprocessing pipeline.\n",
        "\n",
        "There are some changes as compared to the tokenizer from the seminar notebook. First, we'll use lemmas to merge different wordforms and get better classifying features. Secondly, we won't omit non-alphanumeric tokens, as they not only depict ends of sentences, but also contain some semantics (such as \"?!!\" are expected to be found in a negative review)"
      ]
    },
    {
      "cell_type": "code",
      "metadata": {
        "id": "DprZIuh76vZ5",
        "colab_type": "code",
        "colab": {}
      },
      "source": [
        "spacy_en = spacy.load('en')\n",
        "\n",
        "def tokenizer(text): # create a tokenizer function\n",
        "    return [t.lemma_.lower() if t.lemma_ != \"-PRON-\" else t.text.lower() for t in spacy_en(text)]"
      ],
      "execution_count": 0,
      "outputs": []
    },
    {
      "cell_type": "markdown",
      "metadata": {
        "id": "XSNEvZ6Y8mqi",
        "colab_type": "text"
      },
      "source": [
        "Finally, there will be one additional change for GloVe tokenizer, as spaCy handles sentences and it's beneficial for GloVe to know about sentence boundaries:"
      ]
    },
    {
      "cell_type": "code",
      "metadata": {
        "id": "CN7ny2ct9Oc7",
        "colab_type": "code",
        "colab": {}
      },
      "source": [
        "def glove_tokenizer(text): # create a tokenizer function\n",
        "    return [[t.lemma_.lower() if t.lemma_ != \"-PRON-\" else t.text.lower() for t in sent] for sent in spacy_en(text).sents]"
      ],
      "execution_count": 0,
      "outputs": []
    },
    {
      "cell_type": "markdown",
      "metadata": {
        "id": "tg8S3l45-F2u",
        "colab_type": "text"
      },
      "source": [
        "Let's create a corpus for GloVe:"
      ]
    },
    {
      "cell_type": "code",
      "metadata": {
        "id": "qyPVZt3q-Fdt",
        "colab_type": "code",
        "outputId": "b847c48f-ec1b-4b79-fc7e-af590a5f354e",
        "colab": {
          "base_uri": "https://localhost:8080/",
          "height": 50
        }
      },
      "source": [
        "%%time\n",
        "\n",
        "unsup_list = list(data['review'].loc[data['label'] == 'unsup'])\n",
        "lines = []\n",
        "\n",
        "for text in unsup_list:\n",
        "  lines += glove_tokenizer(text)\n",
        "\n",
        "pickle_save(lines, \"lines.pickle\")\n",
        "!cp lines.pickle /content/drive/My\\ Drive"
      ],
      "execution_count": 0,
      "outputs": [
        {
          "output_type": "stream",
          "text": [
            "CPU times: user 36min 40s, sys: 16.6 s, total: 36min 57s\n",
            "Wall time: 37min 2s\n"
          ],
          "name": "stdout"
        }
      ]
    },
    {
      "cell_type": "code",
      "metadata": {
        "id": "mSoGd2MT6Nlh",
        "colab_type": "code",
        "outputId": "d7724308-829b-486d-e0dd-1e04fac46de8",
        "colab": {
          "base_uri": "https://localhost:8080/",
          "height": 50
        }
      },
      "source": [
        "%%time\n",
        "\n",
        "corpus = Corpus()\n",
        "corpus.fit(lines, window=10)"
      ],
      "execution_count": 0,
      "outputs": [
        {
          "output_type": "stream",
          "text": [
            "CPU times: user 37.2 s, sys: 487 ms, total: 37.7 s\n",
            "Wall time: 37.6 s\n"
          ],
          "name": "stdout"
        }
      ]
    },
    {
      "cell_type": "markdown",
      "metadata": {
        "id": "X4C81UzRNd2m",
        "colab_type": "text"
      },
      "source": [
        "Ugh, it took some time. Now we finally train some embeddings:"
      ]
    },
    {
      "cell_type": "code",
      "metadata": {
        "id": "KiRtJICr6LmI",
        "colab_type": "code",
        "outputId": "257cbe63-e53d-44e3-f295-b0040c55bd48",
        "colab": {
          "base_uri": "https://localhost:8080/",
          "height": 571
        }
      },
      "source": [
        "%%time\n",
        "\n",
        "glove = Glove(no_components=300, learning_rate=0.05) \n",
        "glove.fit(corpus.matrix, epochs=30, no_threads=4, verbose=True)\n",
        "glove.add_dictionary(corpus.dictionary)\n",
        "glove.save('glove.model')\n",
        "\n",
        "!cp glove.model /content/drive/My\\ Drive"
      ],
      "execution_count": 0,
      "outputs": [
        {
          "output_type": "stream",
          "text": [
            "Performing 30 training epochs with 4 threads\n",
            "Epoch 0\n",
            "Epoch 1\n",
            "Epoch 2\n",
            "Epoch 3\n",
            "Epoch 4\n",
            "Epoch 5\n",
            "Epoch 6\n",
            "Epoch 7\n",
            "Epoch 8\n",
            "Epoch 9\n",
            "Epoch 10\n",
            "Epoch 11\n",
            "Epoch 12\n",
            "Epoch 13\n",
            "Epoch 14\n",
            "Epoch 15\n",
            "Epoch 16\n",
            "Epoch 17\n",
            "Epoch 18\n",
            "Epoch 19\n",
            "Epoch 20\n",
            "Epoch 21\n",
            "Epoch 22\n",
            "Epoch 23\n",
            "Epoch 24\n",
            "Epoch 25\n",
            "Epoch 26\n",
            "Epoch 27\n",
            "Epoch 28\n",
            "Epoch 29\n",
            "CPU times: user 48min 54s, sys: 1.94 s, total: 48min 56s\n",
            "Wall time: 25min 22s\n"
          ],
          "name": "stdout"
        }
      ]
    },
    {
      "cell_type": "markdown",
      "metadata": {
        "id": "FICnMdA8N0F6",
        "colab_type": "text"
      },
      "source": [
        "This gives us **2 points for using unsupervised data**. Now we'll embed it in our model!\n",
        "\n",
        "Let's resave the dataset to adapt it for the seminar notebook pipeline:"
      ]
    },
    {
      "cell_type": "code",
      "metadata": {
        "id": "Px50E7Hg15Zg",
        "colab_type": "code",
        "colab": {}
      },
      "source": [
        "train_df = data.loc[data[\"label\"] != \"unsup\"]\n",
        "test_df = train_df.loc[train_df[\"type\"] == \"test\"]\n",
        "train_df = train_df.loc[train_df[\"type\"] == \"train\"]\n",
        "\n",
        "train_df.to_csv('train.csv', index=False, encoding=\"utf-8\")\n",
        "test_df.to_csv('test.csv', index=False, encoding=\"utf-8\")"
      ],
      "execution_count": 0,
      "outputs": []
    },
    {
      "cell_type": "code",
      "metadata": {
        "id": "UN1oIOXR3isL",
        "colab_type": "code",
        "outputId": "ee183eee-b8bd-4004-9efe-eab913128966",
        "colab": {
          "base_uri": "https://localhost:8080/",
          "height": 205
        }
      },
      "source": [
        "!head train.csv"
      ],
      "execution_count": 0,
      "outputs": [
        {
          "output_type": "stream",
          "text": [
            "type,review,label,file\n",
            "train,\"I would like to say that curiosity got the best of me. If only I saw a trailer, I'd be able to tell you the whole plot of the movie; I could have saved myself the most pointless one hour and forty minutes in my entire life, and about twenty dollars. This movie was a disaster waiting to happen, and it is an embarrassment to Hollywood.\n",
            "\n",
            "The movie displays a vivid ignorance of reality. For example, this kid's remote control race car goes all over the neighborhood, and even enters this house. It's even covered with clothes. Is it not rational to believe that a remote can no longer transmit a signal under those circumstances? Hollywood obviously did not believe so. Common logic and any concept of electronics dictates the opposite; I doubt the race car could even have reached the street, let alone a house across the street. Another unrealistic trait is the lack of intelligence the criminals possess. Why is it in all these movies, these criminals are rocket scientists until they encounter an eight-year old? The kid is meant to be the most intelligent person in the movie instead of professional terrorists? Please, there's more reality in The Matrix. Also, the leader puts down his real pistol and \"\"accidentally\"\" picks up a plastic pistol; apparently, he could not tell the difference. Even with a glove on, one should be able to do that. Just because they look the same does not mean anything; there is other senses then sight. The traps are unrealistic as well; if any one of them actually worked, the criminals would be dead. But, Hollywood intends for us to \"\"laugh\"\" at the \"\"funny\"\" results of the traps. I did not laugh; I sighed and rolled my eyes.\n",
            "\n",
            "But, I recommend this movie to anyone who thinks they have seen a really bad movie; the movie they saw will seem like Citizen Kane compared to this one. Otherwise, skip this one for the sake of your pride. Home Alone 3 also raises a question. We all know Alex D. Linz stars in the movie, but did he write it as well?\",neg,12431_1.txt\n",
            "train,\"EDDIE MURPHY DELIRIOUS is easily the funniest stand-up concert film I have ever seen. Most stand-up acts usually have lulls at some point, but not this one folks. For 90 min there is not one moment that is not side-splittingly funny. From the moment Eddie does a hilariously dead-on impression of Mr.T, the laughs are non-stop.\n",
            "\n",
            "Sadly, this was done in 1983, and Eddie hasn't done anything nearly as funny. it's unbelievable that the man who wrote this phenomenally brilliant show, wrote a movie called HARLEM NIGHTS which was not very funny at all.\n",
            "\n"
          ],
          "name": "stdout"
        }
      ]
    },
    {
      "cell_type": "markdown",
      "metadata": {
        "id": "xDjyHxLW25au",
        "colab_type": "text"
      },
      "source": [
        "One more change compared to the seminar: we will not use stopwords. The reason is all the words may contribute to text sentiment (especially ones like \"not\") and CNN is expected to learn the necesarry links between words."
      ]
    },
    {
      "cell_type": "code",
      "metadata": {
        "id": "KmcpJKCsSQ6i",
        "colab_type": "code",
        "colab": {}
      },
      "source": [
        "# nltk.download(\"stopwords\")"
      ],
      "execution_count": 0,
      "outputs": []
    },
    {
      "cell_type": "markdown",
      "metadata": {
        "id": "c7urEtj9jlcB",
        "colab_type": "text"
      },
      "source": [
        "Here we at last wrap the text into the `torchtext` structures:"
      ]
    },
    {
      "cell_type": "code",
      "metadata": {
        "id": "bmbpPdc8RWms",
        "colab_type": "code",
        "outputId": "ad7d2ad1-cd77-4ae3-86b8-21558e4f8b48",
        "colab": {
          "base_uri": "https://localhost:8080/",
          "height": 50
        }
      },
      "source": [
        "%%time\n",
        "\n",
        "classes={\n",
        "    'neg': 0,\n",
        "    'pos': 1\n",
        "}\n",
        "\n",
        "TEXT = Field(include_lengths=True, batch_first=True, \n",
        "             tokenize=tokenizer,\n",
        "             eos_token='<eos>',\n",
        "             lower=True,\n",
        "             stop_words={})\n",
        "\n",
        "LABEL = LabelField(dtype=tt.int64, use_vocab=True, preprocessing=lambda x: classes[x])\n",
        "\n",
        "train_ds = TabularDataset('train.csv', format='csv', \n",
        "                         fields=[(None, None), ('text', TEXT), ('label', LABEL), (None, None)], \n",
        "                         skip_header=True)\n",
        "\n",
        "test_ds = TabularDataset('test.csv', format='csv', \n",
        "                         fields=[(None, None), ('text', TEXT), ('label', LABEL), (None, None)], \n",
        "                         skip_header=True)"
      ],
      "execution_count": 0,
      "outputs": [
        {
          "output_type": "stream",
          "text": [
            "CPU times: user 34min 58s, sys: 52.3 s, total: 35min 51s\n",
            "Wall time: 35min 53s\n"
          ],
          "name": "stdout"
        }
      ]
    },
    {
      "cell_type": "markdown",
      "metadata": {
        "id": "fAHSeWk5j-al",
        "colab_type": "text"
      },
      "source": [
        "It appears that `torchtext` doesn't like our `GloVe` format, so let's convert it:"
      ]
    },
    {
      "cell_type": "code",
      "metadata": {
        "id": "YhYddqkekP1m",
        "colab_type": "code",
        "colab": {}
      },
      "source": [
        "def save_glove_as_txt(glove_obj, name=\"custom\", dim=300):\n",
        "  g = glove_obj\n",
        "  outstr = \"\"\n",
        "  for word in g[\"dictionary\"]:\n",
        "    outstr += word + \" \"\n",
        "    outstr += \" \".join(\"%.6f\" % f for f in g[\"word_vectors\"][g[\"dictionary\"][word]])\n",
        "    outstr += \"\\n\"\n",
        "  outstr = outstr[:-1]\n",
        "  with open(\".vector_cache/glove.\" + name + \".\" + str(dim) + \"d.txt\", \"w\", encoding=\"utf-8\") as outt:\n",
        "    outt.write(outstr)"
      ],
      "execution_count": 0,
      "outputs": []
    },
    {
      "cell_type": "code",
      "metadata": {
        "id": "KqviR0XPkHZJ",
        "colab_type": "code",
        "outputId": "cb3c5d70-8cba-4994-818c-56ae8af7750e",
        "colab": {
          "base_uri": "https://localhost:8080/",
          "height": 205
        }
      },
      "source": [
        "del glove\n",
        "\n",
        "g = pickle_load(\"glove.model\")\n",
        "forbidden = [el for el in g[\"dictionary\"] if any([ch in el for ch in (\" \", \"\\n\")])]\n",
        "for el in forbidden:\n",
        "  del g[\"dictionary\"][el]\n",
        "\n",
        "os.makedirs(\".vector_cache\", exist_ok=True)\n",
        "save_glove_as_txt(g)\n",
        "\n",
        "!head .vector_cache/glove.custom.300d.txt"
      ],
      "execution_count": 0,
      "outputs": [
        {
          "output_type": "stream",
          "text": [
            "cavite 0.004345 0.067823 -0.018203 -0.030127 -0.033490 0.022754 -0.043621 0.091975 -0.043482 0.054051 0.072961 -0.034982 -0.000202 -0.014419 0.020709 -0.009462 -0.010213 0.054326 0.004695 -0.047178 0.002202 0.027078 0.000842 0.028927 0.004826 -0.016769 0.030443 0.070203 -0.012572 0.005306 -0.004863 0.034637 0.069278 0.070436 -0.016779 0.045282 0.011679 0.058843 0.037706 -0.000087 -0.008370 -0.027682 -0.115325 -0.014050 0.056489 -0.042219 -0.013099 0.001799 -0.014115 0.131562 0.063852 -0.039465 -0.020096 -0.059898 -0.044274 -0.015911 0.046886 0.063066 0.183428 -0.020958 0.017302 -0.022764 0.055734 0.037212 0.047577 0.003332 0.004364 -0.053257 -0.013122 -0.072277 -0.002235 -0.015804 0.001241 0.031335 -0.016428 -0.066727 0.050382 0.049320 -0.016915 -0.002434 0.039813 -0.098836 0.076063 0.034435 -0.021046 0.020323 -0.019163 -0.009857 0.000129 -0.026560 -0.073291 0.001687 -0.018827 0.007796 0.077340 0.001059 -0.001972 -0.004177 0.005773 -0.028583 0.002342 0.004392 0.037665 0.023967 0.057865 0.004988 0.041596 -0.018561 -0.050321 -0.030201 -0.019620 -0.003263 -0.075703 -0.000030 0.033453 0.030216 0.001640 -0.025167 0.040465 0.022151 -0.008061 -0.145839 -0.022414 0.047562 0.054717 -0.017395 -0.020493 0.015384 0.007824 -0.059839 -0.006471 -0.000346 -0.001989 0.002100 0.058277 0.006015 0.040598 0.037250 0.010367 -0.038768 -0.007329 -0.008110 -0.017852 0.094172 0.019515 -0.005536 -0.013209 -0.012454 -0.063787 -0.076521 0.066799 -0.003067 0.009731 -0.003661 0.039291 0.006007 0.008664 0.020489 0.006076 -0.018954 -0.083175 0.079479 0.015349 0.020975 0.019400 0.009840 0.056786 0.045859 -0.001796 0.017997 0.039905 -0.040689 0.000526 0.021711 -0.010410 0.052111 0.025726 0.017069 0.042027 0.087905 0.083049 -0.005854 0.017717 0.112659 -0.140449 -0.003120 0.036269 0.026044 0.030867 0.022172 0.027347 -0.021884 -0.004602 0.000719 0.006175 -0.117269 0.036940 -0.081662 -0.009189 -0.031695 0.017085 -0.000943 0.068423 -0.048511 -0.078420 0.010376 0.005688 -0.010504 -0.005523 0.007451 0.074705 0.033704 0.012426 -0.077566 -0.026527 0.183217 0.003887 -0.034337 -0.020067 0.030223 -0.046766 0.049168 -0.059656 0.015799 0.053582 -0.051975 -0.007146 -0.075379 -0.003002 -0.058834 0.015445 0.077917 -0.000383 -0.030816 -0.125994 -0.004606 0.051881 0.070030 0.040975 -0.069909 0.045108 -0.047427 -0.008140 0.001818 0.012922 0.024304 0.034054 0.015467 -0.049570 0.039407 0.049286 0.087915 -0.022435 0.056744 -0.011901 0.003801 -0.032327 0.053214 -0.012825 -0.045516 0.004249 -0.032403 -0.037347 0.062633 0.008450 -0.051740 0.028861 -0.020552 0.014029 0.023094 0.139653 -0.040086 0.000143 0.012502 -0.096991 -0.078130 0.008146 0.009307 -0.001263 -0.004167 -0.075963 -0.043931 -0.075788 -0.037807 -0.027299 0.063914 -0.072299 -0.064979 0.070374 -0.060136 0.004199 -0.085720 0.012445 0.134964 -0.016088 -0.021728 0.020667 -0.035271 0.013442 0.017706\n",
            "be -0.414945 0.607063 0.110740 0.124229 0.124212 0.111576 -0.398774 0.402959 0.208408 -0.260101 0.277843 -0.307375 -0.457377 0.245322 -0.263918 -0.113833 -0.239491 0.013171 -0.432527 0.215066 -0.458378 0.033708 -0.327432 -0.113534 0.242688 0.411998 -0.139367 0.280372 0.270379 -0.219416 -0.524310 -0.271081 0.273108 -0.335255 0.336277 0.507725 -0.324512 0.365703 0.287741 0.339921 0.447621 -0.090135 -0.294705 0.359760 0.353387 -0.062759 0.442822 -0.322873 -0.341321 -0.227638 0.187423 -0.273764 0.022685 0.155782 -0.222007 0.302044 -0.316576 0.487333 0.366834 0.286903 0.322298 -0.380872 0.077389 -0.118443 -0.006327 0.266689 -0.426160 0.051476 0.444801 -0.367731 -0.575061 -0.200938 -0.422528 -0.299397 0.321656 -0.117089 -0.150594 0.081354 -0.457855 0.185642 -0.123380 -0.265713 -0.442424 -0.008923 0.157051 -0.290518 0.297948 0.340274 0.858345 0.188439 0.134116 0.426053 0.277521 0.280345 0.273872 -0.046465 -0.102859 -0.373794 -0.406572 0.213847 -0.153993 -0.441128 0.322330 -0.192705 0.125174 -0.260025 -0.196469 0.343745 0.027109 0.227427 -0.240949 0.429241 0.310533 0.073467 -0.069179 -0.588080 -0.145628 0.225796 -0.093797 0.040128 -0.629452 -0.362123 0.300592 -0.111559 -0.123550 0.287502 0.382217 -0.101472 -0.045772 0.314354 0.318646 -0.385941 -0.569260 0.105193 0.533289 0.119436 0.288743 -0.301833 -0.134775 -0.054076 0.418977 0.430516 0.179797 0.226158 -0.038091 -0.166269 0.277986 0.199960 -0.147262 -0.211673 -0.027300 -0.543754 -0.435846 -0.199625 0.067250 -0.346120 -0.398209 -0.161158 -0.456943 0.263292 0.036974 0.151359 -0.044029 0.441296 -0.037142 -0.387914 -0.002415 -0.229635 -0.548310 0.022960 0.238926 -0.010380 0.461100 -0.289895 0.489771 0.118370 -0.276096 0.135816 0.127162 -0.015806 -0.231507 -0.717505 -0.451800 0.112989 -0.325541 0.331321 -0.098979 -0.255495 -0.024874 0.407045 -0.309657 -0.014159 -0.239206 0.452877 0.553229 -0.282591 0.121548 0.175855 -0.293928 0.254867 0.316625 -0.263541 0.433040 -0.041698 -0.322433 0.055532 -0.342982 -0.027780 -0.346923 0.508830 0.287495 -0.222748 -0.325973 -0.200590 0.358331 1.222580 -0.029216 -0.090803 0.319875 -0.034939 -0.019714 -0.097988 0.053128 -0.377057 0.400212 -0.143893 -0.184669 -0.136943 -0.484247 -0.077200 0.323031 0.208654 0.275054 0.094992 -0.302984 0.265278 0.099392 -0.141136 -0.249441 0.152959 0.053911 0.107500 -0.633067 0.211059 -0.303914 -0.417168 -0.134446 -0.111045 0.060689 0.291485 -0.082772 0.471376 0.199787 -0.020026 0.400722 0.183235 -0.234126 -0.184636 0.445073 -0.295632 -0.372306 0.375937 -0.254351 -0.505866 0.151848 0.157636 0.227073 0.243754 -0.365650 -0.014818 0.270624 -0.431775 0.357176 0.749920 -0.280558 -0.220187 0.085488 -0.075184 -0.499246 0.336829 -0.000724 0.003217 -0.142574 -0.009401 -0.138169 0.155559 -0.143597 0.170544 0.075780 -0.259313 -0.395648 -0.347432 0.043677 0.175218 0.215287 0.426318 -0.198624 -0.006425 -0.098804 0.078679\n",
            "an -0.178047 -0.208314 -0.146777 0.435070 0.497747 -0.976634 -0.920260 -0.851385 0.257271 0.310235 0.430364 0.947442 -0.187852 0.177015 0.196290 0.098991 -0.061938 -0.141071 -0.167341 0.020971 -0.160735 -0.003612 -0.183069 -0.396510 0.187232 0.278738 0.075751 0.186309 0.138117 -0.060098 -0.187745 -0.149760 0.219099 0.048206 0.116699 0.021168 -0.161651 -0.211126 -0.064141 0.280637 0.128583 -0.038528 0.026283 0.132560 0.068823 -0.054503 0.176855 -0.158293 -0.000004 -0.372558 0.574244 0.237237 -0.461926 0.410329 -0.227145 0.183600 -0.240972 -0.124152 0.049480 0.133482 0.305387 0.007624 -0.255930 0.106772 -0.659974 0.121958 -0.118056 -0.276596 0.154514 0.376806 -0.176534 -0.171417 -0.212300 -0.004690 0.121482 0.252092 -0.071222 -0.134192 -0.254122 0.194355 -0.039083 0.610356 -0.584618 -0.790385 0.107555 -0.115550 0.204937 0.139977 -0.026286 0.255718 -0.071612 0.140182 0.157384 -0.118559 -0.549543 0.132178 -0.256167 -0.221044 -0.306556 0.145334 -0.039969 -0.248642 -0.448066 -0.164277 0.026369 -0.099998 -0.302517 0.191261 0.006014 -0.047883 -0.665623 0.084060 -0.554426 -0.108838 -0.545809 0.688904 -0.056222 0.123952 0.142617 -0.149807 -0.207273 0.157996 0.306430 -0.214809 -0.103149 0.105881 0.140885 0.113111 0.113807 0.249903 0.136588 -0.228949 -0.170272 -0.539470 0.267292 0.243342 0.279985 -0.201535 -0.230434 0.292597 0.240878 0.153221 0.240556 0.151913 -0.049365 -0.163951 -0.489165 0.340240 -0.014047 -0.113471 -0.066134 -0.190597 -0.192023 0.267027 -1.025773 -0.093648 -0.187921 -0.029885 -0.100123 0.063138 0.732086 -0.039892 -0.084730 0.162423 -0.233742 0.597152 0.562416 -0.181013 -0.170251 0.350108 -0.255248 0.392901 0.160611 -0.115540 0.191882 0.259116 0.167487 0.778660 0.198282 0.630799 -0.052030 -0.224181 -0.234909 -0.087376 0.163960 0.122510 -0.209773 -0.163321 0.228889 0.176611 -0.183579 -0.187320 -0.267065 0.114091 0.636216 -0.386651 -0.029670 0.224660 0.088427 0.376975 0.184602 0.256522 0.267646 -0.017459 -1.356223 0.507532 -0.226535 0.544376 -0.127723 0.170269 -0.169630 -0.120264 -0.120751 -0.283390 0.295917 0.048195 0.079322 -0.703292 0.181247 0.288776 -0.106120 0.505212 -0.305109 -0.411667 -0.027832 -0.117744 -0.042302 -0.376951 -0.161291 -0.143047 0.130984 0.344124 0.130540 0.287851 0.849753 0.133888 0.748356 -0.242892 0.217978 0.167517 -0.120910 0.343789 -0.195059 0.261512 -0.185104 -0.101697 -0.275280 -0.224909 -0.049388 0.226306 0.091223 0.140542 0.200198 0.032084 0.353524 0.157730 0.267616 -0.368576 0.192834 -0.263680 -0.254821 0.093417 -0.673546 0.073327 -0.051794 0.048215 0.194349 0.161288 -0.187979 0.269948 -0.183937 0.110472 0.222917 -0.009806 -0.053339 -0.112954 0.382973 -0.289979 -0.150194 0.231412 0.514033 0.791149 -0.505631 0.164065 0.761525 -0.234444 -0.430802 -0.720964 0.661340 0.075960 -0.094702 0.575677 0.007422 -0.644297 0.003939 0.132733 -0.100928 0.019625 0.170256 -0.307322\n",
            "example -0.138601 -0.118270 0.023848 0.104918 0.128124 -0.003181 -0.201835 0.112671 0.109571 -0.112947 0.152281 -0.211942 -0.100925 0.092262 0.267592 -0.133766 -0.142123 -0.020637 -0.140318 0.174418 -0.121933 -0.092379 -0.132333 -0.063736 0.144889 0.142894 0.268110 0.026286 0.090561 -0.194546 -0.125481 -0.137170 -0.089722 -0.358004 0.125853 -0.299975 -0.123983 -0.154318 0.090752 -0.239605 0.107357 0.222459 0.281729 0.117390 0.213198 -0.233044 0.107148 -0.092187 0.033926 0.321109 0.122811 0.073735 -0.101989 -0.167817 -0.088189 0.115615 0.000647 -0.123324 -0.179777 0.050050 0.091508 -0.162008 -0.129563 -0.028201 -0.059983 0.121744 -0.116811 0.143918 0.134814 -0.145911 -0.132911 -0.114924 -0.099961 -0.163646 0.173810 -0.132969 -0.140515 -0.301990 -0.003739 0.145840 0.184825 -0.051672 -0.073391 -0.108134 0.124922 -0.104488 0.122350 0.125117 -0.021069 0.153062 -0.110652 0.107974 0.200823 0.131631 -0.199674 0.042278 0.059028 -0.108816 -0.137729 0.138332 -0.102790 -0.099095 0.182159 -0.069732 0.226206 -0.083709 0.041998 0.055868 0.178064 0.108671 -0.033971 -0.358208 -0.330949 -0.137985 -0.256004 -0.116747 -0.043657 0.111100 -0.026175 0.045727 -0.136217 -0.292868 0.142356 0.019109 -0.444168 0.088667 0.132046 0.093085 0.066878 -0.041011 0.107511 -0.126997 -0.122833 0.200158 0.157641 0.055966 0.230994 -0.137736 -0.081488 -0.113277 0.095404 0.141129 0.071256 0.058114 -0.127408 -0.030591 0.010533 -0.006116 0.005836 0.098175 -0.181420 -0.125516 -0.100733 -0.277596 0.024391 -0.103685 -0.122590 -0.115122 -0.119108 0.131012 -0.082771 -0.074446 -0.042597 0.042039 -0.371839 0.359250 -0.020511 -0.205206 -0.122494 -0.272157 -0.171565 0.180608 0.094716 -0.188554 0.144995 -0.315375 0.126498 0.145484 0.094979 0.084565 -0.134804 -0.154145 -0.116367 -0.086735 -0.214517 0.097522 -0.242821 -0.128205 0.173558 0.119959 -0.123910 0.159284 -0.120594 0.118287 -0.022540 -0.028672 -0.128996 0.170462 0.016972 0.112140 0.040786 0.349515 0.244316 -0.013981 -0.195991 0.193269 -0.105058 -0.036935 -0.113524 0.126162 0.133996 -0.095321 -0.162493 -0.204169 0.120222 0.091814 -0.104256 -0.375799 0.114369 0.346713 -0.061629 0.051041 -0.204317 -0.178862 -0.228371 0.326957 -0.006165 -0.158235 -0.138825 0.353025 0.139573 0.052081 0.260140 0.127456 0.064720 0.090878 0.355444 0.361214 -0.363226 0.050850 -0.093055 0.190494 -0.114101 0.067599 -0.112187 -0.126712 -0.141030 -0.121281 0.089879 -0.132043 0.303855 0.087924 0.062647 -0.008222 0.015003 0.187976 -0.037626 -0.233355 0.093262 -0.489996 -0.116430 0.096862 -0.088845 0.128892 0.136330 0.152973 0.072739 0.054525 -0.112539 0.315944 0.222862 0.199067 0.056859 0.168309 0.270720 -0.221923 0.031831 -0.044892 -0.108163 0.132500 0.143894 0.323276 -0.072685 0.105380 0.122356 -0.135822 0.474827 -0.360782 0.298230 0.054405 -0.093458 0.031217 -0.117595 -0.056568 0.015114 0.108653 -0.154713 -0.319386 -0.182730 -0.097320\n",
            "of -0.274307 0.540239 -0.560468 -0.016423 0.132061 -0.049368 0.471130 0.689470 0.161061 -0.484695 0.123129 -0.639194 -0.308129 0.160824 0.217181 -0.198445 -0.217937 0.191297 -0.327726 0.226615 -0.317889 -0.347156 -0.312655 -0.234695 0.343126 0.111193 -0.168858 0.416555 0.351465 -0.231501 -0.356298 -0.213552 0.078184 -0.099651 0.344714 0.215136 -0.203024 -0.353111 -0.027775 -0.064056 0.332853 -0.183363 0.037470 0.179919 0.412028 -0.198381 0.338221 -0.256255 0.018537 0.445779 -0.266285 -0.009181 -0.191222 -0.212574 -0.156424 0.303223 0.176049 -0.322325 0.117950 0.173631 0.233313 0.002966 -0.224091 0.147014 0.412983 0.263601 -0.298313 -0.546441 0.328051 0.083341 -0.428249 -0.142739 -0.360747 -0.226126 0.137910 -0.357601 -0.092022 -0.009507 -0.155058 0.264929 -0.003709 -0.031815 -0.602494 -0.267602 0.123079 -0.252663 0.301397 0.289900 -0.188559 -0.390100 -0.479217 0.375368 0.213084 -0.044058 -0.469357 0.211317 0.441204 -0.307042 -0.183085 0.278295 0.082926 -0.343373 -0.550244 -0.128183 0.326635 -0.220285 -0.029451 0.283738 0.191490 0.113768 0.664274 -0.631200 -0.163333 0.136242 -0.182962 -0.376001 -0.098026 0.261212 0.063802 0.155140 -0.503892 -0.509802 0.254774 -0.102321 0.276198 0.233164 0.261025 0.591934 -0.279864 -0.525761 0.166517 -0.299496 -0.443146 -0.169657 0.304205 0.133382 -0.200880 -0.315058 0.119457 -0.094239 0.298039 0.277303 0.226712 0.002145 0.171366 -0.415102 0.286780 0.169208 -0.496483 -0.169392 0.268639 -0.420176 -0.331761 0.073393 -0.210587 -0.282721 -0.353488 -0.256377 -0.357261 0.216710 -0.355903 1.301509 -0.129886 0.076736 -0.142896 0.212037 0.201747 0.167994 -0.397416 0.154587 -0.410039 -0.045896 0.321622 0.160648 0.389450 0.082030 0.887060 0.172729 0.351212 -0.205216 -0.171927 -0.565894 -0.297295 0.237919 -0.423243 0.237271 0.197782 -0.210421 0.385455 0.324965 -0.239767 0.087065 -0.137096 0.350298 -0.020269 0.105852 0.562984 -0.109365 -0.229322 -0.057923 -0.587095 0.093458 0.304227 0.056299 0.322018 0.256192 -0.353244 0.005398 -0.324763 0.405766 -0.517599 -0.258846 -0.253637 0.142619 0.251928 -0.325845 -0.071216 0.380180 0.221697 -0.070548 0.259389 -0.089110 0.115008 -0.240468 -0.088607 0.189632 -0.320615 -0.477547 -0.401965 -0.187189 0.231602 0.328742 0.218136 -0.101032 0.060361 0.211019 0.617639 0.165242 0.305606 -0.477275 -0.140310 0.132667 -0.467163 0.310942 -0.331059 -0.315576 -0.140078 -0.307351 -0.602994 -0.531119 0.113950 -0.422947 0.226909 0.408068 0.240130 0.217189 0.083759 0.203033 0.261586 -0.452927 -0.318587 0.248577 -1.221993 0.301993 0.141418 0.288582 0.222788 -0.046990 -0.215481 0.287542 0.662326 0.522831 0.282690 -0.434032 0.451708 -0.356279 -0.007220 0.129781 -0.362141 0.220584 -0.179598 -0.009530 -0.498384 0.526859 1.079007 0.556842 -0.060806 -0.771689 0.282265 -0.957552 -0.295492 -0.341618 0.347921 -0.419225 -0.029458 0.303392 -0.237666 -0.239131 0.507968 -0.676009\n",
            "ultimate -0.086208 -0.186930 -0.126125 0.045853 0.123272 0.097271 -0.180109 -0.148849 0.014691 -0.078854 0.205301 -0.229250 -0.096785 0.084452 0.038131 0.029055 -0.052982 0.119793 -0.080807 0.078442 -0.095473 0.058376 -0.073670 0.048832 0.064172 0.163218 0.028571 -0.080868 0.045099 -0.018518 -0.112700 -0.056455 -0.134937 -0.154016 0.079312 0.251950 -0.072364 -0.139881 0.062847 -0.173712 0.090031 -0.021330 0.000524 0.071971 0.083769 -0.243529 0.098759 -0.098823 0.164617 -0.013382 0.130967 -0.015654 -0.163729 -0.017233 -0.074829 0.083382 0.033639 0.046542 0.065908 0.075064 0.040095 0.057905 0.050290 0.195306 0.266510 0.071562 -0.084925 0.299617 0.091371 -0.342133 -0.111413 -0.072413 -0.106747 -0.061989 0.012400 -0.071304 -0.055500 0.082200 -0.024634 0.007151 0.073579 -0.084475 0.103018 0.122563 0.062064 -0.075231 0.034919 0.084783 -0.052903 0.048558 -0.093964 0.105047 0.082243 0.210833 -0.124517 0.009985 -0.008176 -0.081955 -0.029075 0.081995 -0.134877 -0.100028 -0.266025 0.034035 0.050625 -0.091982 -0.078882 0.077221 0.050878 0.115240 0.100074 -0.146664 -0.144786 -0.055617 0.076641 0.248059 -0.088524 0.070437 -0.054814 0.165942 -0.128999 0.088810 0.066086 -0.059160 0.011469 0.029020 0.054105 0.087320 0.062318 0.077673 0.043161 -0.098371 -0.117622 0.381092 0.069487 -0.002623 0.079890 -0.068583 -0.087599 -0.079264 0.097549 0.078207 0.024219 -0.007131 -0.100045 -0.058158 0.141544 -0.180563 -0.091931 -0.010970 0.115194 -0.110391 -0.093994 -0.089515 -0.044636 -0.070765 -0.086283 -0.084605 -0.095653 0.086446 0.120668 0.059368 -0.026889 0.022410 -0.028765 0.216173 0.029777 0.003904 -0.115248 0.051403 -0.019932 0.089946 0.085841 -0.142934 0.107976 -0.290587 -0.005946 -0.122694 0.242982 -0.046073 -0.063657 -0.148053 -0.091673 -0.053933 0.203829 0.048950 -0.135644 -0.002542 0.076927 0.104354 -0.036915 0.068689 -0.088133 0.091129 0.118177 -0.031627 -0.099149 0.053668 -0.005416 -0.096843 -0.206662 -0.039513 0.244785 -0.108777 -0.180531 0.007014 -0.085001 0.158732 -0.075951 0.113953 -0.005461 -0.031095 -0.074261 -0.174200 0.084903 -0.013308 -0.104357 -0.168015 0.050528 0.039302 -0.054461 -0.090540 0.033338 -0.078332 -0.098513 -0.015161 -0.042218 -0.030942 -0.094945 -0.003820 0.068609 0.057383 0.055238 0.078056 -0.146186 0.043669 -0.045335 -0.043995 0.097114 -0.071292 0.016511 0.082013 -0.126120 0.038368 -0.063284 -0.085862 -0.005593 -0.182901 -0.106745 0.043082 -0.155883 0.051540 0.027088 0.089098 -0.007865 0.049595 0.293977 0.116758 0.087899 -0.100830 -0.098041 0.060937 -0.026733 -0.166813 0.050269 0.036079 0.149570 0.062903 -0.083673 0.158381 -0.079124 -0.092948 0.058437 -0.255808 -0.006054 0.051432 0.335423 -0.213306 -0.089895 0.081676 -0.108459 0.179136 -0.104018 -0.015567 0.118252 -0.017939 0.167961 0.013380 0.019559 0.027982 -0.091388 -0.047594 0.100273 -0.016346 0.024871 0.105589 -0.098791 -0.070107 -0.196758 0.238817\n",
            "independent -0.117023 -0.030838 -0.126867 0.040546 0.057319 -0.071221 -0.164879 -0.200667 0.105064 -0.193520 0.037108 -0.018707 -0.084456 0.050864 0.092808 -0.048456 -0.097618 -0.013714 -0.107576 0.070703 -0.083418 -0.187642 -0.091123 -0.042787 0.118220 0.203523 -0.077021 -0.032358 0.074884 -0.043896 -0.100673 -0.076097 0.128216 -0.099239 0.087752 -0.001348 -0.076817 -0.032757 0.161621 -0.014662 0.083107 0.074094 0.033687 0.082671 0.049089 -0.068814 0.086359 -0.108190 -0.115430 -0.121477 0.243925 -0.058855 -0.083154 -0.127736 -0.141111 0.093171 0.025676 -0.186797 -0.153536 0.098545 0.114640 -0.007820 -0.178071 0.164060 -0.167077 0.105713 -0.089447 -0.161625 0.091991 -0.118286 -0.091580 -0.050946 -0.092621 -0.067745 0.047791 0.169710 -0.070132 -0.001730 -0.122028 0.081874 -0.026462 0.033891 0.128392 -0.167740 0.113831 -0.112618 0.067254 0.077832 -0.076036 -0.168984 -0.158604 0.085532 0.039482 0.135213 -0.082073 -0.031107 -0.104542 -0.100533 -0.105355 0.087593 -0.035922 -0.108450 -0.229720 -0.082767 0.051938 -0.102368 -0.125677 0.085754 0.050944 0.003215 -0.139122 -0.102088 -0.342050 -0.046254 -0.107852 0.166511 -0.301202 0.095004 0.170228 0.011312 -0.103116 -0.082443 0.112562 -0.102551 -0.143303 0.055878 0.063977 -0.157031 0.084142 0.114140 0.010269 -0.072239 -0.100478 0.069013 -0.052228 0.022977 -0.164540 -0.110311 0.108513 -0.007282 0.088286 0.087699 0.127109 -0.010149 0.227242 -0.164436 0.167809 0.089112 0.071362 0.157952 0.057592 -0.097298 -0.096752 -0.079037 -0.046489 -0.067700 -0.095211 -0.061498 -0.074511 0.092917 0.200963 0.111499 -0.061309 0.068358 -0.052835 -0.085862 0.100767 0.068572 -0.097923 0.010923 -0.318874 0.162209 0.096062 -0.132853 0.089428 0.034541 0.154442 0.102071 0.048568 0.239746 -0.066418 -0.103484 -0.079929 0.295798 0.207369 0.078547 -0.164368 -0.064366 0.008387 0.091624 -0.087565 -0.002951 -0.108628 0.080209 0.160361 0.079777 0.245164 0.146444 0.020414 0.104452 0.136503 -0.145588 0.298676 0.024623 -0.184204 0.093107 -0.069432 0.091249 -0.089017 0.091479 0.084643 -0.076437 -0.072493 0.148862 0.098026 -0.131378 0.047759 0.046110 0.094258 0.113956 -0.054466 0.073241 -0.332155 -0.116390 -0.142961 0.082626 -0.061008 -0.164658 -0.095660 -0.106422 0.070993 0.055028 0.113566 -0.025273 0.114275 0.070817 -0.257439 -0.033646 -0.127851 -0.098221 -0.026492 -0.043668 -0.094942 0.114013 -0.076266 -0.065785 -0.015199 -0.218758 -0.119210 0.013115 0.111023 -0.138968 0.120614 0.025243 0.056603 0.105013 0.104015 -0.189813 0.099502 0.021322 -0.120604 0.072646 0.070926 -0.051744 0.061575 0.106845 0.099961 0.074555 -0.095683 0.063455 0.049416 -0.147716 0.069785 0.052853 -0.014220 0.021054 -0.073466 -0.070239 -0.087608 0.098303 0.083721 0.293458 0.273599 0.104754 -0.082248 -0.050034 0.114299 -0.189493 0.071345 -0.424363 -0.075121 0.151369 -0.090673 -0.120348 -0.071595 0.098556 -0.104428 -0.068687 0.053815 0.170416\n",
            "film -0.287254 0.017744 0.033154 0.313547 -0.219131 0.080053 0.037347 -0.241400 0.271340 -0.389933 -0.063206 0.049594 -0.230068 0.282342 0.000054 -0.189220 -0.191960 0.130645 -0.291671 0.360862 -0.261515 -0.261080 -0.220903 -0.182874 0.299554 -0.053197 -0.166657 0.127040 0.212189 -0.234651 -0.241887 -0.172936 0.256959 -0.383744 0.201982 -0.183199 -0.170971 0.184207 0.403753 -0.022870 0.215031 0.039126 -0.097837 0.268466 0.214012 -0.053252 0.225119 -0.267867 -0.248821 -0.030082 0.245219 0.207776 -0.159874 -0.170474 -0.260650 0.223865 -0.171367 -0.398756 -0.589361 0.419745 0.213018 0.430230 -0.119098 -0.079111 0.122269 0.321855 -0.215842 -0.217307 0.268870 -0.192034 -0.228474 -0.216462 -0.247133 -0.240047 0.281722 0.027132 -0.129683 -0.067414 -0.188138 0.156449 -0.029482 -0.069800 0.163734 -0.113526 0.334683 -0.242496 0.183476 0.198054 -0.177393 -0.350431 0.229119 0.227232 0.142478 0.111353 0.344247 0.065312 0.052267 -0.218476 -0.154159 0.193683 -0.133590 -0.213337 -0.188286 -0.299972 -0.224300 -0.276947 -0.070396 0.205749 0.413340 0.243063 -0.125110 -0.040942 -0.493053 0.077698 -0.096755 0.289200 -0.281643 0.196620 0.214462 0.375904 -0.261821 0.169929 0.280712 -0.134673 -0.325795 0.194864 0.248760 -0.252670 -0.222693 0.160512 0.171746 -0.215742 -0.260882 0.050980 0.092777 -0.137182 -0.200083 -0.203347 0.238930 0.000907 0.213248 0.224716 0.165133 -0.162455 0.311877 -0.282523 0.260543 0.021740 0.122860 0.198604 -0.138213 -0.225707 -0.210595 0.389469 -0.116982 -0.227562 -0.226099 -0.180262 -0.192757 0.247420 0.458988 0.196325 -0.245878 0.213742 -0.084308 -0.226432 0.513342 -0.348582 -0.232492 -0.001514 -0.498519 -0.028927 0.254175 0.143431 0.209322 -0.284155 0.261250 -0.132529 0.006001 0.226397 -0.273047 -0.288679 -0.213582 0.048050 -0.125963 0.173552 -0.300247 -0.253176 0.010274 0.175651 -0.255875 0.300180 -0.253436 0.215899 0.111234 -0.024703 -0.002128 0.315322 0.168952 0.207142 0.282143 0.025565 0.193907 0.030991 -0.465981 0.116219 -0.157432 0.012193 -0.159278 0.234617 0.391862 -0.207990 -0.223614 0.052690 0.262636 0.090617 0.024971 0.615588 0.182245 0.197401 -0.390745 0.113029 -0.277926 0.063867 -0.099966 -0.108840 -0.267765 -0.010007 -0.227059 -0.279460 0.199018 -0.151647 0.156071 -0.071516 -0.000731 0.131192 -0.212584 0.152180 -0.183946 0.099546 -0.458982 0.068514 -0.250419 0.239918 -0.231568 -0.168895 0.079496 -0.350669 0.112590 -0.382717 0.203435 0.028112 0.184875 0.326460 0.082764 0.226340 0.021810 -0.479626 0.219887 0.175996 -0.276215 0.174855 0.189091 0.148712 0.252564 0.296055 0.156207 0.141208 -0.228257 0.119463 -0.350360 -0.164779 0.228856 0.087915 0.121375 -0.117640 -0.494439 0.324332 -0.191251 0.270380 0.181614 -0.033535 0.023550 0.248113 -0.193574 -0.382404 0.364549 -0.482010 0.225257 -0.478971 -0.208310 -0.164937 0.015891 -0.174060 -0.336335 0.264738 -0.251111 -0.015491 0.177311 0.167036\n",
            ", -0.364427 -0.091408 -0.398344 0.242483 0.175048 -0.026863 0.308749 -0.136888 0.302986 0.222541 -0.093728 0.659847 -0.325169 0.242193 0.457496 -0.327441 -0.360009 0.288634 -0.276841 0.166120 -0.367229 -0.250537 -0.312150 -0.246949 0.240797 -0.256004 0.091146 -0.537171 0.187350 -0.156298 -0.414597 -0.225283 0.118784 -0.030087 0.307060 -0.205380 -0.285699 0.052558 0.015663 0.074838 0.335860 0.025681 -0.252517 0.243754 0.024861 -0.339744 0.328232 -0.242456 0.267668 0.532563 0.380367 0.243069 -0.312711 -0.036497 -0.146195 0.359115 -0.008278 0.198864 -0.119996 0.138298 0.288038 -0.364059 0.020123 0.389313 -0.089299 0.273135 -0.294454 -0.165235 0.358452 -0.202844 -0.444478 -0.219324 -0.370840 -0.229424 0.164721 -0.116996 -0.054709 -0.266996 -0.140851 0.254917 0.550560 0.242551 -0.176926 0.406816 0.182235 -0.275098 0.234458 0.257464 0.058861 -0.399396 -0.513253 0.324823 0.373808 0.303847 0.070439 0.310214 -0.164495 -0.311681 -0.228109 0.130550 -0.248413 -0.383870 0.698960 -0.038679 -0.095704 -0.259722 -0.147026 0.271050 0.208633 0.207764 0.382355 0.479468 0.062043 -0.112934 -0.514492 0.258793 -0.208347 0.204472 0.107145 -0.093444 -0.521916 -0.114518 0.331915 -0.374264 -0.495397 0.163713 0.199384 0.057507 0.008647 -0.340089 0.118839 -0.299316 -0.429623 0.126971 0.213078 0.234812 -0.277345 -0.254163 0.182418 -0.115603 0.358121 0.260085 0.134242 0.326547 0.077332 -0.090237 -0.477268 0.103492 -0.232105 -0.256289 0.044956 -0.439217 -0.341273 -0.009944 -0.414215 -0.236711 -0.305897 -0.189256 -0.350451 0.237233 -0.344912 -0.063845 -0.262644 0.506545 -0.268150 -0.131396 -0.469724 0.263818 -0.431347 0.237117 0.110652 0.176708 0.350420 0.004814 0.393058 0.507661 0.255828 0.369338 0.081404 0.238880 0.046517 -0.643786 -0.317512 0.468334 -0.434847 0.209167 -0.343507 -0.111695 0.616926 0.350868 -0.240329 0.331944 -0.370124 0.321909 -0.208166 -0.326356 0.068157 -0.448504 -0.218102 -0.188687 -0.569204 0.045235 0.233572 -0.178809 -0.033325 0.260205 -0.251282 -0.199890 -0.305096 0.440028 0.322446 -0.194816 -0.229804 -0.225319 0.246490 0.434900 0.237426 0.191076 0.168845 0.609697 -0.276838 0.054411 -0.078475 -0.081807 0.031633 0.093169 -0.037745 -0.296022 -0.359839 0.021702 0.331107 0.290181 0.326715 0.262404 0.172962 0.330326 0.007156 0.351782 0.274748 -0.348987 -0.305246 0.304449 -0.489790 0.293140 -0.259569 -0.300052 -0.272892 -0.386052 -0.491005 0.661262 0.544366 0.289438 0.108017 -0.169250 -0.057220 0.028919 0.324933 -0.115594 0.308656 0.014370 -0.313960 0.125348 0.347760 -0.166594 0.353096 0.226303 0.212260 0.028829 -0.332654 -0.339446 0.084976 -0.150031 0.260872 0.163497 -0.454063 -0.241476 -0.043210 -0.065157 -0.382643 0.297894 0.241576 -0.419466 -0.099089 -0.079400 -0.473420 0.066394 0.270932 -0.083491 -0.004274 -0.262571 -0.276090 -0.131125 0.245988 0.241893 -0.095405 0.332307 -0.308288 -0.417028 0.018054 0.300786\n",
            "with -0.287904 -0.297926 0.030129 0.306904 0.184909 -0.338852 0.106928 -0.043107 0.275867 0.056949 -0.067748 0.266970 -0.289651 0.234741 0.154092 -0.084745 -0.245764 -0.242985 -0.287732 0.195622 -0.318578 -0.119651 -0.266947 -0.134686 0.065762 0.130152 -0.273571 -0.146998 0.201146 -0.133003 -0.357340 -0.264711 0.457132 0.314301 0.243118 -0.324710 -0.233086 0.191852 -0.018745 -0.253514 0.250781 -0.091566 0.764368 0.081707 -0.054380 -0.335963 0.258592 -0.302724 0.094217 -0.523227 0.264051 -0.275543 0.162616 0.100658 -0.246824 0.335359 0.064097 0.349699 0.166227 0.114466 0.191388 0.297830 -0.084080 -0.126809 0.619077 0.195324 -0.301063 -0.389843 0.321183 -0.116935 -0.343723 -0.225654 -0.322375 -0.204572 0.024258 -0.310698 0.192214 -0.337533 -0.040002 0.144918 -0.065492 0.454483 0.127858 -0.642071 0.109711 -0.247765 0.114720 0.187343 0.098489 0.004589 -0.006713 0.232092 0.371237 -0.144023 -0.296095 0.142668 0.008547 -0.230190 -0.180331 0.112594 -0.041152 -0.333223 -0.018778 -0.069168 -0.194601 -0.282606 0.001441 0.257914 0.359402 0.221103 0.335544 -0.019515 0.530133 0.210128 0.058513 -0.143676 0.480334 0.251358 -0.068795 -0.141356 -0.402469 0.116217 0.171102 0.048960 -0.203675 0.205207 0.235087 0.361289 0.015302 -0.307158 0.272859 -0.245168 -0.332025 0.036596 -0.490745 -0.030771 -0.471986 -0.241209 -0.018423 -0.240475 0.308569 0.186651 0.152058 -0.203007 0.264934 -0.086164 0.230213 0.077283 0.145952 -0.069592 -0.157022 -0.335218 -0.296192 0.306788 -0.128778 -0.239264 -0.269611 -0.021999 -0.306370 0.220680 0.260247 -0.221532 -0.175746 0.189102 -0.076735 -0.302352 0.871694 0.504055 -0.301471 0.008932 -0.367318 0.476684 0.379263 -0.004853 0.332194 -0.082987 0.136796 0.043642 0.172393 -0.422016 -0.255325 -0.488870 -0.299601 0.068789 0.149276 0.178965 0.433866 -0.151864 0.255338 0.278652 -0.316518 0.343655 -0.146316 0.264033 0.371367 0.348562 -0.114934 0.080425 -0.179542 0.193689 0.156974 0.184571 -0.138986 0.297341 -0.660611 0.200430 -0.138650 -0.319488 -0.280022 0.331421 0.389793 -0.097275 -0.221716 -0.561739 0.139718 -0.500452 0.229182 -0.042937 0.141619 0.154596 0.214285 -0.142280 0.523776 0.017379 -0.398631 0.081627 -0.132010 0.099859 -0.324937 0.167824 0.207536 0.202106 0.253912 0.429579 0.177290 0.229661 0.517656 -0.257713 0.107817 -0.142362 -0.098733 0.278706 -0.401113 0.306261 -0.168407 -0.276521 -0.233910 -0.096777 -0.164231 0.539103 0.032593 -0.714316 0.154095 0.144222 -0.227108 0.024830 -0.271338 -0.027251 0.243716 -0.322612 -0.210976 0.226579 0.567932 -0.166486 0.279162 0.085673 0.186581 -0.118431 -0.307379 -0.021904 0.046375 0.189523 0.338522 0.087840 -0.108390 -0.012245 -0.426966 0.478634 -0.332766 0.191236 0.093379 0.079557 -0.094758 0.253860 -0.229689 -0.295829 -0.289149 0.695933 -0.207987 0.264942 -0.264111 -0.366015 0.212979 -0.452706 -0.238465 0.335299 -0.140606 -0.195406 0.390330 -0.317533\n"
          ],
          "name": "stdout"
        }
      ]
    },
    {
      "cell_type": "code",
      "metadata": {
        "id": "QOOh-2CYR6U6",
        "colab_type": "code",
        "colab": {}
      },
      "source": [
        "class CustomGloVe(torchtext.vocab.Vectors):\n",
        "    def __init__(self, name='custom', dim=300, **kwargs):\n",
        "        name = 'glove.{}.{}d.txt'.format(name, str(dim))\n",
        "        super(CustomGloVe, self).__init__(name, url=\"\", **kwargs)"
      ],
      "execution_count": 0,
      "outputs": []
    },
    {
      "cell_type": "markdown",
      "metadata": {
        "id": "P06_adwnk2Vn",
        "colab_type": "text"
      },
      "source": [
        "Now we can use our vectors, although we still have to apply some workarounds to join our datasets:"
      ]
    },
    {
      "cell_type": "code",
      "metadata": {
        "id": "AAJHtsGjRWmu",
        "colab_type": "code",
        "outputId": "ff674927-b6dc-4705-ef63-ba21561b4a67",
        "colab": {
          "base_uri": "https://localhost:8080/",
          "height": 34
        }
      },
      "source": [
        "glove_vectors = CustomGloVe()\n",
        "\n",
        "TEXT.build_vocab(train_ds, min_freq=3, vectors=glove_vectors)\n",
        "len(TEXT.vocab.itos)"
      ],
      "execution_count": 0,
      "outputs": [
        {
          "output_type": "execute_result",
          "data": {
            "text/plain": [
              "31835"
            ]
          },
          "metadata": {
            "tags": []
          },
          "execution_count": 74
        }
      ]
    },
    {
      "cell_type": "markdown",
      "metadata": {
        "id": "bHsfeyQHlcfZ",
        "colab_type": "text"
      },
      "source": [
        "Standard checks here:"
      ]
    },
    {
      "cell_type": "code",
      "metadata": {
        "id": "5_dINL2oRWmw",
        "colab_type": "code",
        "outputId": "0bcac9a9-1691-4372-d961-10192a9e4b83",
        "colab": {
          "base_uri": "https://localhost:8080/",
          "height": 34
        }
      },
      "source": [
        "TEXT.vocab.itos[:10]"
      ],
      "execution_count": 0,
      "outputs": [
        {
          "output_type": "execute_result",
          "data": {
            "text/plain": [
              "['<unk>', '<pad>', '<eos>', 'the', 'be', ',', '.', 'and', 'a', 'of']"
            ]
          },
          "metadata": {
            "tags": []
          },
          "execution_count": 75
        }
      ]
    },
    {
      "cell_type": "markdown",
      "metadata": {
        "id": "sRAepv1DlpWN",
        "colab_type": "text"
      },
      "source": [
        "Building label vocab:"
      ]
    },
    {
      "cell_type": "code",
      "metadata": {
        "id": "3itEaq9tRWmy",
        "colab_type": "code",
        "colab": {}
      },
      "source": [
        "LABEL.build_vocab(train_ds)"
      ],
      "execution_count": 0,
      "outputs": []
    },
    {
      "cell_type": "markdown",
      "metadata": {
        "id": "veWPQVAOlsZ-",
        "colab_type": "text"
      },
      "source": [
        "Train/test split. In our previous assignment, 90% train/validation split was beneficial, so we will apply the same here:"
      ]
    },
    {
      "cell_type": "code",
      "metadata": {
        "id": "iqor0nLmRWm0",
        "colab_type": "code",
        "colab": {}
      },
      "source": [
        "train, test = train_ds, test_ds\n",
        "train, valid = train.split(0.9)"
      ],
      "execution_count": 0,
      "outputs": []
    },
    {
      "cell_type": "markdown",
      "metadata": {
        "id": "nCAABYqzl5aC",
        "colab_type": "text"
      },
      "source": [
        "The model definition should be not much different from seminar. However, as we have to distinguish only two types of labels here, we should use binary cross-entropy loss:"
      ]
    },
    {
      "cell_type": "code",
      "metadata": {
        "id": "8f0ijjCwRWm8",
        "colab_type": "code",
        "colab": {}
      },
      "source": [
        "class MyModel(nn.Module):\n",
        "    \n",
        "    def __init__(self, vocab_size, embed_size, hidden_size, kernels):\n",
        "        super(MyModel, self).__init__()\n",
        "        self.embedding = nn.Embedding(vocab_size, embed_size)\n",
        "        \n",
        "        self.convs = nn.ModuleList([nn.Conv1d(embed_size, hidden_size, k, padding=5) for k in kernels])\n",
        "        \n",
        "        self.fc = nn.Linear(hidden_size * len(kernels), 2)\n",
        "        \n",
        "    def forward(self, batch):\n",
        "        x, _ = batch.text\n",
        "\n",
        "        x = self.embedding(x)\n",
        "        x = x.transpose(1,2)\n",
        "        \n",
        "        concatenated = []\n",
        "        for conv in self.convs:\n",
        "            z = conv(x)\n",
        "            z = F.avg_pool1d(z, kernel_size=z.size(2))\n",
        "            z = z.squeeze(2)\n",
        "            concatenated.append(z)\n",
        "            \n",
        "        x = tt.cat(concatenated, 1)\n",
        "        x = self.fc(x)\n",
        "        return x"
      ],
      "execution_count": 0,
      "outputs": []
    },
    {
      "cell_type": "code",
      "metadata": {
        "id": "Sxf24v-bRWm_",
        "colab_type": "code",
        "colab": {}
      },
      "source": [
        "tt.cuda.empty_cache()\n",
        "\n",
        "batch_size = 32\n",
        "\n",
        "model = MyModel(len(TEXT.vocab.itos),\n",
        "                embed_size=100,\n",
        "                hidden_size=128,\n",
        "                kernels=[2,3,4,5]\n",
        "               )\n",
        "\n",
        "train_iterator, valid_iterator, test_iterator = BucketIterator.splits(\n",
        "    (train, valid, test),\n",
        "    batch_sizes=(batch_size, batch_size, batch_size),\n",
        "    shuffle=True,\n",
        "    sort_key=lambda x: len(x.text),\n",
        ")\n",
        "\n",
        "optimizer = optim.Adam(model.parameters())\n",
        "scheduler = optim.lr_scheduler.ReduceLROnPlateau(optimizer, patience=5, verbose=True, cooldown=5)\n",
        "criterion = nn.CrossEntropyLoss()"
      ],
      "execution_count": 0,
      "outputs": []
    },
    {
      "cell_type": "markdown",
      "metadata": {
        "id": "flp-fnZlmPDv",
        "colab_type": "text"
      },
      "source": [
        "Defining train and test:"
      ]
    },
    {
      "cell_type": "code",
      "metadata": {
        "id": "-mYiIiEwTf58",
        "colab_type": "code",
        "colab": {}
      },
      "source": [
        "def epoch_train(model, iterator, epoch, criterion, optimizer, scheduler,\n",
        "                save_dir='model'):\n",
        "    if not os.path.exists(save_dir):\n",
        "      os.mkdir(save_dir)\n",
        "    model.train()\n",
        "    epoch_losses = []\n",
        "    general_loss = 0\n",
        "    iterator = tqdm_notebook(iterator, total=len(iterator),\n",
        "                             desc='epoch %d' % (epoch + 1), leave=True)\n",
        "\n",
        "    for batch in iterator:\n",
        "        optimizer.zero_grad()\n",
        "        pred = model(batch)\n",
        "        loss = criterion(pred, batch.label)\n",
        "        loss.backward()\n",
        "        optimizer.step()\n",
        "        curr_loss = loss.data.detach().item()\n",
        "        epoch_losses.append(curr_loss)\n",
        "        general_loss = np.mean(epoch_losses)\n",
        "        iterator.set_postfix(loss='%.5f' % general_loss)\n",
        "    \n",
        "    scheduler.step(general_loss)\n",
        "\n",
        "    state = {'epoch': epoch + 1, 'state_dict': model.state_dict(),\n",
        "             'optimizer': optimizer.state_dict()}\n",
        "    tt.save(state, save_dir+'/'+str(epoch+1))\n",
        "    return general_loss\n",
        "\n",
        "def epoch_eval(model, iterator, criterion):\n",
        "    model.eval()\n",
        "    general_loss = 0\n",
        "\n",
        "    with tt.no_grad():\n",
        "        for batch in iterator:\n",
        "            pred = model(batch)\n",
        "            loss = criterion(pred, batch.label)\n",
        "            general_loss += loss.data.item()\n",
        "    \n",
        "    general_loss = general_loss / len(iterator)\n",
        "    return general_loss\n",
        "\n",
        "\n",
        "def train_net(model, train_iterator, valid_iterator, criterion, optimizer,\n",
        "          num_epochs=100, scheduler=None, early_stopping=0):\n",
        "    scores = []\n",
        "    epochs_worse = 0\n",
        "\n",
        "    for epoch in range(num_epochs):\n",
        "        best_epoch = epoch + 1\n",
        "\n",
        "        train_loss = epoch_train(model, train_iterator, epoch, criterion,\n",
        "                                 optimizer, scheduler)\n",
        "        valid_loss = epoch_eval(model, valid_iterator, criterion)\n",
        "\n",
        "        print('Validation loss: %.4f' % valid_loss)\n",
        "        scores.append(valid_loss)\n",
        "\n",
        "        if not epoch:\n",
        "          min_loss = train_loss\n",
        "\n",
        "        if early_stopping and epoch:\n",
        "            if valid_loss > min_loss:\n",
        "                epochs_worse += 1\n",
        "            else:\n",
        "                epochs_worse = 0\n",
        "\n",
        "            if epochs_worse >= early_stopping:\n",
        "                best_epoch = scores.index(min(scores)) + 1\n",
        "                print('Early stopping')\n",
        "                print('Best epoch is #%d with validation loss %.4f' %\n",
        "                      (best_epoch, min(scores)))\n",
        "                break\n",
        "\n",
        "            min_loss = min(min_loss, valid_loss)\n",
        "    \n",
        "    return best_epoch"
      ],
      "execution_count": 0,
      "outputs": []
    },
    {
      "cell_type": "markdown",
      "metadata": {
        "id": "RpMMFMJzmSbZ",
        "colab_type": "text"
      },
      "source": [
        "As we are applying early stopping, we should be able to revert to older model states. Here is our technique:"
      ]
    },
    {
      "cell_type": "code",
      "metadata": {
        "id": "LRLGmjioybqy",
        "colab_type": "code",
        "colab": {}
      },
      "source": [
        "def load_checkpoint(model, optimizer, save_dir='model', epoch=None):\n",
        "    # Note: Input model & optimizer should be pre-defined.  This routine only updates their states.\n",
        "    if epoch is None:\n",
        "      epoch = max([int(f) for f in os.listdir(save_dir)])\n",
        "    filename = 'model/'+str(epoch)\n",
        "    start_epoch = 0\n",
        "    if os.path.isfile(filename):\n",
        "        print(\"=> loading checkpoint '{}'\".format(filename))\n",
        "        checkpoint = tt.load(filename)\n",
        "        start_epoch = checkpoint['epoch']\n",
        "        model.load_state_dict(checkpoint['state_dict'])\n",
        "        optimizer.load_state_dict(checkpoint['optimizer'])\n",
        "        print(\"=> loaded checkpoint '{}' (epoch {})\"\n",
        "                  .format(filename, checkpoint['epoch']))\n",
        "    else:\n",
        "        print(\"=> no checkpoint found at '{}'\".format(filename))\n",
        "\n",
        "    return model, optimizer, start_epoch"
      ],
      "execution_count": 0,
      "outputs": []
    },
    {
      "cell_type": "markdown",
      "metadata": {
        "id": "Mzb9aRDImche",
        "colab_type": "text"
      },
      "source": [
        "Let's train!"
      ]
    },
    {
      "cell_type": "code",
      "metadata": {
        "id": "Gctm9HDJTiUY",
        "colab_type": "code",
        "outputId": "979d130c-f6be-497d-93b8-1e390b9d1d6c",
        "colab": {
          "base_uri": "https://localhost:8080/",
          "height": 328,
          "referenced_widgets": [
            "38424dddd74d4aa4a90ad319df5f4c58",
            "8babb91ecb48494aa9303d7310c57370",
            "7b4251b394da4c8a8b53a8964b96fd05",
            "02491372e65645dbaa091d20662cebc7",
            "776f08a70bd848f7ad6453bee0eaf0dd",
            "d8be01fff9314198be822a65b8326423",
            "609e62bb6cb440f5b554324e151f13ff",
            "e0ecbe053e7b47089331d6daadc95352",
            "9959d2a241934bae88ace8d1c979d943",
            "8093e7bf91e0466e8bf10049799b3f08",
            "4beca628513e46679ee047612361667d",
            "d25f5479332240a0923ca61e50a1261b",
            "df472c1c01854309acba58baf00a13d4",
            "b421c7bd505b4e528a4bf77361042334",
            "b7b0c93ddc68457cbc72d2a1f31203ed",
            "6dd8d22a40fa4c92b01a7b7549979507",
            "bb5214978d554f1e9447689178b4fcc9",
            "9af4b34c0f63447ea544d9bbcefd55df",
            "b1f3faf0cff147b899146a465180c4af",
            "ea500233ee6346479aebbc73a6c020cd",
            "a506d043a4ab4af38f125eec3dcb8fa8",
            "b2249b5a668e4f91bc17240b96b1f042",
            "c2c91e12e7de494aa733a2148cce63eb",
            "9396273af2bf412eb156cea31361ce28",
            "7784490f53264aff94cdfb938d7a3616",
            "9d5e38ffcdff4e6989848ee5a2368b8d",
            "13ba01155dc64642843b4faea2cdb032",
            "4c13cdcdae564aad938eb8827ef98660",
            "09435bf406ca4837836e635fad4186db",
            "16a99f112d7c4b2aa570aed38a4443c4",
            "e5f209c41d53425ea8f6a73982109ec6",
            "8b5746ae879e49d2978bf1bd9e152e26",
            "1298be9368134329ac540828a01c4c7e",
            "a85c0a5cc53642ea82edaca72a9e386f",
            "ab9937d5979f49ea80e1b88230616283",
            "2b15643e981f403f910a7948032d7f97",
            "5e3486be3ad24546806922384ead441b",
            "569a174ec83544109ed20e44c4befc61",
            "05a42e6f145a48d995e24c69e0ed68fa",
            "fb62d64bfcf347cd8f4ec4539cf1dfc4"
          ]
        }
      },
      "source": [
        "%%time\n",
        "\n",
        "be = train_net(model, train_iterator, valid_iterator, criterion, optimizer,\n",
        "               scheduler=scheduler, num_epochs=10, early_stopping=2)"
      ],
      "execution_count": 107,
      "outputs": [
        {
          "output_type": "display_data",
          "data": {
            "application/vnd.jupyter.widget-view+json": {
              "model_id": "38424dddd74d4aa4a90ad319df5f4c58",
              "version_minor": 0,
              "version_major": 2
            },
            "text/plain": [
              "HBox(children=(IntProgress(value=0, description='epoch 1', max=704, style=ProgressStyle(description_width='ini…"
            ]
          },
          "metadata": {
            "tags": []
          }
        },
        {
          "output_type": "stream",
          "text": [
            "Validation loss: 0.5211\n"
          ],
          "name": "stdout"
        },
        {
          "output_type": "display_data",
          "data": {
            "application/vnd.jupyter.widget-view+json": {
              "model_id": "9959d2a241934bae88ace8d1c979d943",
              "version_minor": 0,
              "version_major": 2
            },
            "text/plain": [
              "HBox(children=(IntProgress(value=0, description='epoch 2', max=704, style=ProgressStyle(description_width='ini…"
            ]
          },
          "metadata": {
            "tags": []
          }
        },
        {
          "output_type": "stream",
          "text": [
            "Validation loss: 0.5387\n"
          ],
          "name": "stdout"
        },
        {
          "output_type": "display_data",
          "data": {
            "application/vnd.jupyter.widget-view+json": {
              "model_id": "bb5214978d554f1e9447689178b4fcc9",
              "version_minor": 0,
              "version_major": 2
            },
            "text/plain": [
              "HBox(children=(IntProgress(value=0, description='epoch 3', max=704, style=ProgressStyle(description_width='ini…"
            ]
          },
          "metadata": {
            "tags": []
          }
        },
        {
          "output_type": "stream",
          "text": [
            "Validation loss: 0.5051\n"
          ],
          "name": "stdout"
        },
        {
          "output_type": "display_data",
          "data": {
            "application/vnd.jupyter.widget-view+json": {
              "model_id": "7784490f53264aff94cdfb938d7a3616",
              "version_minor": 0,
              "version_major": 2
            },
            "text/plain": [
              "HBox(children=(IntProgress(value=0, description='epoch 4', max=704, style=ProgressStyle(description_width='ini…"
            ]
          },
          "metadata": {
            "tags": []
          }
        },
        {
          "output_type": "stream",
          "text": [
            "Validation loss: 0.5510\n"
          ],
          "name": "stdout"
        },
        {
          "output_type": "display_data",
          "data": {
            "application/vnd.jupyter.widget-view+json": {
              "model_id": "1298be9368134329ac540828a01c4c7e",
              "version_minor": 0,
              "version_major": 2
            },
            "text/plain": [
              "HBox(children=(IntProgress(value=0, description='epoch 5', max=704, style=ProgressStyle(description_width='ini…"
            ]
          },
          "metadata": {
            "tags": []
          }
        },
        {
          "output_type": "stream",
          "text": [
            "Validation loss: 0.6089\n",
            "Early stopping\n",
            "Best epoch is #3 with validation loss 0.5051\n",
            "CPU times: user 56min 54s, sys: 9min 7s, total: 1h 6min 2s\n",
            "Wall time: 1h 6min 29s\n"
          ],
          "name": "stdout"
        }
      ]
    },
    {
      "cell_type": "markdown",
      "metadata": {
        "id": "ppuuwYS3mmBV",
        "colab_type": "text"
      },
      "source": [
        "Preparing for testing..."
      ]
    },
    {
      "cell_type": "code",
      "metadata": {
        "id": "scbMqEV4xhRn",
        "colab_type": "code",
        "colab": {
          "base_uri": "https://localhost:8080/",
          "height": 50
        },
        "outputId": "2294ba44-c3f8-447c-f9da-38b6c50e61a8"
      },
      "source": [
        "device=\"cpu\"\n",
        "\n",
        "model, optimizer, start_epoch = load_checkpoint(model, optimizer, epoch=be)\n",
        "model = model.to(device)\n",
        "for state in optimizer.state.values():\n",
        "    for k, v in state.items():\n",
        "        if isinstance(v, tt.Tensor):\n",
        "            state[k] = v.to(device)"
      ],
      "execution_count": 108,
      "outputs": [
        {
          "output_type": "stream",
          "text": [
            "=> loading checkpoint 'model/3'\n",
            "=> loaded checkpoint 'model/3' (epoch 3)\n"
          ],
          "name": "stdout"
        }
      ]
    },
    {
      "cell_type": "code",
      "metadata": {
        "id": "cCIR7C3cbdmE",
        "colab_type": "code",
        "colab": {}
      },
      "source": [
        "def test_net(model, test_iterator, device, metric=accuracy_score, verbose=True):\n",
        "  model.eval()\n",
        "  scores = []\n",
        "\n",
        "  if verbose:\n",
        "    test_iterator = tqdm_notebook(test_iterator)\n",
        "\n",
        "  with tt.no_grad():\n",
        "    for batch in test_iterator:\n",
        "      X = batch\n",
        "      y = batch.label\n",
        "      y_pred = tt.argmax(model(X), dim=1)\n",
        "      scores.append(accuracy_score(y, y_pred.cpu()))\n",
        "  \n",
        "  acc = np.mean(scores)\n",
        "  print('Test accuracy score: %.4f' % acc)\n",
        "  return acc"
      ],
      "execution_count": 0,
      "outputs": []
    },
    {
      "cell_type": "markdown",
      "metadata": {
        "id": "yum736gfmpzN",
        "colab_type": "text"
      },
      "source": [
        "...and testing, at last:"
      ]
    },
    {
      "cell_type": "code",
      "metadata": {
        "id": "vXwp2IJERWnD",
        "colab_type": "code",
        "colab": {
          "base_uri": "https://localhost:8080/",
          "height": 82,
          "referenced_widgets": [
            "eb1c3b39ca1b458cbcbbf5c9dbfedd91",
            "0d7bc50db4a44afa90561a9290334e0f",
            "bdd55111f44d4a93a4ecd58733ca1b6b",
            "daa4ec5c1cf8449089aec95f73206e11",
            "8b1ff2582e4b4a53996b139742d59c38",
            "6d0de6843cab4eeab845923a67ba2589",
            "dfbd0a67c48b493cb9d2210be00c5345",
            "cc24739498a2457db467a5fee7ad4954"
          ]
        },
        "outputId": "d22ae555-0e38-4fb2-f409-18e96a836b74"
      },
      "source": [
        "test_net(model, test_iterator, tt.device('cpu'))"
      ],
      "execution_count": 110,
      "outputs": [
        {
          "output_type": "display_data",
          "data": {
            "application/vnd.jupyter.widget-view+json": {
              "model_id": "eb1c3b39ca1b458cbcbbf5c9dbfedd91",
              "version_minor": 0,
              "version_major": 2
            },
            "text/plain": [
              "HBox(children=(IntProgress(value=0, max=782), HTML(value='')))"
            ]
          },
          "metadata": {
            "tags": []
          }
        },
        {
          "output_type": "stream",
          "text": [
            "Test accuracy score: 0.8730\n"
          ],
          "name": "stdout"
        },
        {
          "output_type": "execute_result",
          "data": {
            "text/plain": [
              "0.8730418797953964"
            ]
          },
          "metadata": {
            "tags": []
          },
          "execution_count": 110
        }
      ]
    },
    {
      "cell_type": "markdown",
      "metadata": {
        "id": "3Tx58W6MmqLN",
        "colab_type": "text"
      },
      "source": [
        "That's it! This gives us **5 points** for beating *acc = 0.8*"
      ]
    }
  ]
}